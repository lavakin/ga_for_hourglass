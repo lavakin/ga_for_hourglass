{
 "cells": [
  {
   "cell_type": "code",
   "execution_count": 2,
   "metadata": {},
   "outputs": [],
   "source": [
    "import numpy as np\n",
    "import pandas as pd\n",
    "import matplotlib.pyplot as plt\n",
    "import statsmodels.api as sm\n",
    "import pygad\n",
    "import logging\n",
    "import random\n",
    "from collections import Counter\n",
    "import seaborn as sns\n",
    "import scipy\n",
    "import tqdm\n",
    "from numba import jit\n",
    "import multiprocess as mp\n",
    "from functools import partial"
   ]
  },
  {
   "cell_type": "code",
   "execution_count": 5,
   "metadata": {},
   "outputs": [
    {
     "data": {
      "text/html": [
       "<div>\n",
       "<style scoped>\n",
       "    .dataframe tbody tr th:only-of-type {\n",
       "        vertical-align: middle;\n",
       "    }\n",
       "\n",
       "    .dataframe tbody tr th {\n",
       "        vertical-align: top;\n",
       "    }\n",
       "\n",
       "    .dataframe thead th {\n",
       "        text-align: right;\n",
       "    }\n",
       "</style>\n",
       "<table border=\"1\" class=\"dataframe\">\n",
       "  <thead>\n",
       "    <tr style=\"text-align: right;\">\n",
       "      <th></th>\n",
       "      <th>Unnamed: 0</th>\n",
       "      <th>Phylostratum</th>\n",
       "      <th>GeneID</th>\n",
       "      <th>Zygote</th>\n",
       "      <th>Quadrant</th>\n",
       "      <th>Globular</th>\n",
       "      <th>Heart</th>\n",
       "      <th>Torpedo</th>\n",
       "      <th>Bent</th>\n",
       "      <th>Mature</th>\n",
       "    </tr>\n",
       "  </thead>\n",
       "  <tbody>\n",
       "    <tr>\n",
       "      <th>0</th>\n",
       "      <td>1</td>\n",
       "      <td>1</td>\n",
       "      <td>at1g01040.2</td>\n",
       "      <td>2173.635205</td>\n",
       "      <td>1911.200145</td>\n",
       "      <td>1152.555283</td>\n",
       "      <td>1291.422445</td>\n",
       "      <td>1000.252931</td>\n",
       "      <td>962.977223</td>\n",
       "      <td>1696.427421</td>\n",
       "    </tr>\n",
       "    <tr>\n",
       "      <th>1</th>\n",
       "      <td>2</td>\n",
       "      <td>1</td>\n",
       "      <td>at1g01050.1</td>\n",
       "      <td>1501.014084</td>\n",
       "      <td>1817.308557</td>\n",
       "      <td>1665.308874</td>\n",
       "      <td>1564.761244</td>\n",
       "      <td>1496.320663</td>\n",
       "      <td>1114.643547</td>\n",
       "      <td>1071.655487</td>\n",
       "    </tr>\n",
       "    <tr>\n",
       "      <th>2</th>\n",
       "      <td>3</td>\n",
       "      <td>1</td>\n",
       "      <td>at1g01070.1</td>\n",
       "      <td>1212.792724</td>\n",
       "      <td>1233.002267</td>\n",
       "      <td>939.200046</td>\n",
       "      <td>929.619501</td>\n",
       "      <td>864.218009</td>\n",
       "      <td>877.206001</td>\n",
       "      <td>894.818917</td>\n",
       "    </tr>\n",
       "    <tr>\n",
       "      <th>3</th>\n",
       "      <td>4</td>\n",
       "      <td>1</td>\n",
       "      <td>at1g01080.2</td>\n",
       "      <td>1016.920321</td>\n",
       "      <td>936.383717</td>\n",
       "      <td>1181.338144</td>\n",
       "      <td>1329.473434</td>\n",
       "      <td>1392.642854</td>\n",
       "      <td>1287.974590</td>\n",
       "      <td>861.260488</td>\n",
       "    </tr>\n",
       "    <tr>\n",
       "      <th>4</th>\n",
       "      <td>5</td>\n",
       "      <td>1</td>\n",
       "      <td>at1g01090.1</td>\n",
       "      <td>11424.566680</td>\n",
       "      <td>16778.168460</td>\n",
       "      <td>34366.649350</td>\n",
       "      <td>39775.640530</td>\n",
       "      <td>56231.568920</td>\n",
       "      <td>66980.367330</td>\n",
       "      <td>7772.561656</td>\n",
       "    </tr>\n",
       "    <tr>\n",
       "      <th>...</th>\n",
       "      <td>...</td>\n",
       "      <td>...</td>\n",
       "      <td>...</td>\n",
       "      <td>...</td>\n",
       "      <td>...</td>\n",
       "      <td>...</td>\n",
       "      <td>...</td>\n",
       "      <td>...</td>\n",
       "      <td>...</td>\n",
       "      <td>...</td>\n",
       "    </tr>\n",
       "    <tr>\n",
       "      <th>25255</th>\n",
       "      <td>25256</td>\n",
       "      <td>12</td>\n",
       "      <td>at5g67200.1</td>\n",
       "      <td>721.139701</td>\n",
       "      <td>731.211686</td>\n",
       "      <td>788.833156</td>\n",
       "      <td>815.185775</td>\n",
       "      <td>871.509726</td>\n",
       "      <td>809.404700</td>\n",
       "      <td>749.102579</td>\n",
       "    </tr>\n",
       "    <tr>\n",
       "      <th>25256</th>\n",
       "      <td>25257</td>\n",
       "      <td>12</td>\n",
       "      <td>at5g67245.1</td>\n",
       "      <td>1132.810160</td>\n",
       "      <td>1145.611552</td>\n",
       "      <td>1030.842523</td>\n",
       "      <td>1142.514730</td>\n",
       "      <td>1175.351616</td>\n",
       "      <td>985.904374</td>\n",
       "      <td>1147.261206</td>\n",
       "    </tr>\n",
       "    <tr>\n",
       "      <th>25257</th>\n",
       "      <td>25258</td>\n",
       "      <td>12</td>\n",
       "      <td>at5g67280.1</td>\n",
       "      <td>731.678348</td>\n",
       "      <td>748.688731</td>\n",
       "      <td>705.033813</td>\n",
       "      <td>622.710117</td>\n",
       "      <td>730.698691</td>\n",
       "      <td>864.307779</td>\n",
       "      <td>774.050852</td>\n",
       "    </tr>\n",
       "    <tr>\n",
       "      <th>25258</th>\n",
       "      <td>25259</td>\n",
       "      <td>12</td>\n",
       "      <td>at5g67380.1</td>\n",
       "      <td>14725.097780</td>\n",
       "      <td>2426.968469</td>\n",
       "      <td>2463.236828</td>\n",
       "      <td>2395.512964</td>\n",
       "      <td>1847.669032</td>\n",
       "      <td>1943.984418</td>\n",
       "      <td>5137.928045</td>\n",
       "    </tr>\n",
       "    <tr>\n",
       "      <th>25259</th>\n",
       "      <td>25260</td>\n",
       "      <td>12</td>\n",
       "      <td>at5g67600.1</td>\n",
       "      <td>13830.715570</td>\n",
       "      <td>13826.835000</td>\n",
       "      <td>2393.858041</td>\n",
       "      <td>2430.507385</td>\n",
       "      <td>1626.152756</td>\n",
       "      <td>2598.010284</td>\n",
       "      <td>34546.407180</td>\n",
       "    </tr>\n",
       "  </tbody>\n",
       "</table>\n",
       "<p>25260 rows × 10 columns</p>\n",
       "</div>"
      ],
      "text/plain": [
       "       Unnamed: 0  Phylostratum       GeneID        Zygote      Quadrant  \\\n",
       "0               1             1  at1g01040.2   2173.635205   1911.200145   \n",
       "1               2             1  at1g01050.1   1501.014084   1817.308557   \n",
       "2               3             1  at1g01070.1   1212.792724   1233.002267   \n",
       "3               4             1  at1g01080.2   1016.920321    936.383717   \n",
       "4               5             1  at1g01090.1  11424.566680  16778.168460   \n",
       "...           ...           ...          ...           ...           ...   \n",
       "25255       25256            12  at5g67200.1    721.139701    731.211686   \n",
       "25256       25257            12  at5g67245.1   1132.810160   1145.611552   \n",
       "25257       25258            12  at5g67280.1    731.678348    748.688731   \n",
       "25258       25259            12  at5g67380.1  14725.097780   2426.968469   \n",
       "25259       25260            12  at5g67600.1  13830.715570  13826.835000   \n",
       "\n",
       "           Globular         Heart       Torpedo          Bent        Mature  \n",
       "0       1152.555283   1291.422445   1000.252931    962.977223   1696.427421  \n",
       "1       1665.308874   1564.761244   1496.320663   1114.643547   1071.655487  \n",
       "2        939.200046    929.619501    864.218009    877.206001    894.818917  \n",
       "3       1181.338144   1329.473434   1392.642854   1287.974590    861.260488  \n",
       "4      34366.649350  39775.640530  56231.568920  66980.367330   7772.561656  \n",
       "...             ...           ...           ...           ...           ...  \n",
       "25255    788.833156    815.185775    871.509726    809.404700    749.102579  \n",
       "25256   1030.842523   1142.514730   1175.351616    985.904374   1147.261206  \n",
       "25257    705.033813    622.710117    730.698691    864.307779    774.050852  \n",
       "25258   2463.236828   2395.512964   1847.669032   1943.984418   5137.928045  \n",
       "25259   2393.858041   2430.507385   1626.152756   2598.010284  34546.407180  \n",
       "\n",
       "[25260 rows x 10 columns]"
      ]
     },
     "metadata": {},
     "output_type": "display_data"
    }
   ],
   "source": [
    "arr = pd.read_csv(\"../data/phylo.csv\",\n",
    "                 delimiter=\",\")\n",
    "display(arr)"
   ]
  },
  {
   "cell_type": "code",
   "execution_count": 6,
   "metadata": {},
   "outputs": [],
   "source": [
    "ex_data = arr[[\"Zygote\", \"Quadrant\",\"Globular\",\"Heart\",\"Torpedo\",\"Bent\",\"Mature\"]]\n",
    "ex_data_n = ex_data.to_numpy()"
   ]
  },
  {
   "cell_type": "code",
   "execution_count": 7,
   "metadata": {},
   "outputs": [],
   "source": [
    "var_ex = ex_data.var(axis=1)/ex_data.mean(axis=1) \n",
    "age_weighted = ex_data.mul(arr[\"Phylostratum\"], axis=0).to_numpy()\n",
    "perc = 1\n",
    "high_var_ind =  np.argsort(var_ex)[-round(len(var_ex) * perc):]\n",
    "low_var_ind =  np.argsort(var_ex)[:-round(len(var_ex) * perc)]\n"
   ]
  },
  {
   "cell_type": "code",
   "execution_count": 8,
   "metadata": {},
   "outputs": [
    {
     "ename": "AttributeError",
     "evalue": "'numpy.ndarray' object has no attribute 'iloc'",
     "output_type": "error",
     "traceback": [
      "\u001b[0;31m---------------------------------------------------------------------------\u001b[0m",
      "\u001b[0;31mAttributeError\u001b[0m                            Traceback (most recent call last)",
      "Cell \u001b[0;32mIn[8], line 1\u001b[0m\n\u001b[0;32m----> 1\u001b[0m high_var_w \u001b[39m=\u001b[39m age_weighted\u001b[39m.\u001b[39;49miloc[high_var_ind,:]\n\u001b[1;32m      2\u001b[0m high_var \u001b[39m=\u001b[39m ex_data\u001b[39m.\u001b[39miloc[high_var_ind,:]\n\u001b[1;32m      3\u001b[0m low_var_w \u001b[39m=\u001b[39m age_weighted\u001b[39m.\u001b[39miloc[low_var_ind,:]\n",
      "\u001b[0;31mAttributeError\u001b[0m: 'numpy.ndarray' object has no attribute 'iloc'"
     ]
    }
   ],
   "source": [
    "high_var_w = age_weighted.iloc[high_var_ind,:]\n",
    "high_var = ex_data.iloc[high_var_ind,:]\n",
    "low_var_w = age_weighted.iloc[low_var_ind,:]\n",
    "low_var = ex_data.iloc[low_var_ind,:]\n",
    "\n",
    "high_var_w_n = high_var_w.to_numpy()\n",
    "high_var_n = high_var.to_numpy()\n",
    "low_var_w_sum = low_var_w.sum(axis=0).to_numpy()\n",
    "low_var_sum = low_var.sum(axis=0).to_numpy()"
   ]
  },
  {
   "cell_type": "code",
   "execution_count": 9,
   "metadata": {},
   "outputs": [],
   "source": [
    "def get_removed_genes_from_solution(solution):\n",
    "    return arr.iloc[high_var.index.values[np.where(solution == 0)[0]],:]\n"
   ]
  },
  {
   "cell_type": "code",
   "execution_count": 11,
   "metadata": {},
   "outputs": [],
   "source": [
    "def quantilerank(xs):\n",
    "    ranks = scipy.stats.rankdata(xs, method='average')\n",
    "    quantile_ranks = [scipy.stats.percentileofscore(ranks, rank, kind='weak') for rank in ranks]\n",
    "    return np.array(quantile_ranks)"
   ]
  },
  {
   "cell_type": "code",
   "execution_count": null,
   "metadata": {},
   "outputs": [],
   "source": [
    "def flat_line_test_g_dist(expres_data,rounds):\n",
    "    ex = expres_data.copy()\n",
    "    ex_ex = ex.iloc[:, 3:]\n",
    "    phil = ex['Phylostratum']\n",
    "    phil = quantilerank(phil)\n",
    "    variances = []\n",
    "    for _ in tqdm.trange(rounds):\n",
    "        perm = np.random.permutation(phil)\n",
    "        weighted = ex_ex.mul(perm, axis=0)\n",
    "        avg = weighted.sum(axis=0)/ex_ex.sum(axis=0)\n",
    "        variances.append(np.var(avg))\n",
    "    shape, loc, scale = scipy.stats.gamma.fit(variances)\n",
    "    print(shape)\n",
    "    print(scale)\n",
    "    print(loc)\n",
    "    return scipy.stats.gamma(shape, scale=scale,loc=loc)\n",
    "\n",
    "\n"
   ]
  },
  {
   "cell_type": "code",
   "execution_count": 12,
   "metadata": {},
   "outputs": [
    {
     "name": "stderr",
     "output_type": "stream",
     "text": [
      "100%|██████████| 40000/40000 [03:30<00:00, 190.45it/s]\n"
     ]
    }
   ],
   "source": [
    "ex =arr.copy()\n",
    "ex_ex = ex.iloc[:, 3:]\n",
    "ex_ex = np.log(ex_ex).apply(lambda x: (x - x.mean()) / x.std(), axis=1)\n",
    "phil = ex['Phylostratum']\n",
    "phil = quantilerank(phil)\n",
    "variances = []\n",
    "for _ in tqdm.trange(40000):\n",
    "    perm = np.random.permutation(phil)\n",
    "    weighted = ex_ex.mul(perm, axis=0)\n",
    "    avg = weighted.sum(axis=0)/ex_ex.sum(axis=0)\n",
    "    variances.append(np.var(avg))"
   ]
  },
  {
   "cell_type": "code",
   "execution_count": 13,
   "metadata": {},
   "outputs": [],
   "source": [
    "varrrs = pd.DataFrame(variances,columns=[\"vars\"])"
   ]
  },
  {
   "cell_type": "code",
   "execution_count": 17,
   "metadata": {},
   "outputs": [
    {
     "data": {
      "text/plain": [
       "<Axes: ylabel='Count'>"
      ]
     },
     "execution_count": 17,
     "metadata": {},
     "output_type": "execute_result"
    },
    {
     "data": {
      "image/png": "[encoded data removed]",
      "text/plain": [
       "<Figure size 640x480 with 1 Axes>"
      ]
     },
     "metadata": {},
     "output_type": "display_data"
    }
   ],
   "source": [
    "sns.histplot(varrrs)"
   ]
  },
  {
   "cell_type": "code",
   "execution_count": 242,
   "metadata": {},
   "outputs": [
    {
     "name": "stderr",
     "output_type": "stream",
     "text": [
      "100%|██████████| 100000/100000 [05:49<00:00, 286.22it/s]\n"
     ]
    },
    {
     "name": "stdout",
     "output_type": "stream",
     "text": [
      "0.12422732547668659\n",
      "1.7094504791289618\n"
     ]
    }
   ],
   "source": [
    "gamma = flat_line_test_g_dist(arr,100000)"
   ]
  },
  {
   "cell_type": "code",
   "execution_count": 18,
   "metadata": {},
   "outputs": [],
   "source": [
    "shape, scale, loc = scipy.stats.gamma.fit(variances)\n",
    "_, p_value = scipy.stats.kstest(variances, 'gamma', args=(shape,))"
   ]
  },
  {
   "cell_type": "code",
   "execution_count": 22,
   "metadata": {},
   "outputs": [
    {
     "data": {
      "text/plain": [
       "9.087965245120383"
      ]
     },
     "execution_count": 22,
     "metadata": {},
     "output_type": "execute_result"
    }
   ],
   "source": [
    "scale"
   ]
  },
  {
   "cell_type": "code",
   "execution_count": 35,
   "metadata": {},
   "outputs": [],
   "source": [
    "shape, loc, scale = scipy.stats.gamma.fit(variances)\n",
    "gamma = scipy.stats.gamma(shape, scale=100,loc=loc)"
   ]
  },
  {
   "cell_type": "code",
   "execution_count": 276,
   "metadata": {},
   "outputs": [
    {
     "data": {
      "text/plain": [
       "172678.8828685424"
      ]
     },
     "execution_count": 276,
     "metadata": {},
     "output_type": "execute_result"
    }
   ],
   "source": [
    "gamma.pdf(0.00000255)"
   ]
  },
  {
   "cell_type": "code",
   "execution_count": 45,
   "metadata": {},
   "outputs": [
    {
     "data": {
      "text/plain": [
       "0.29186674383664113"
      ]
     },
     "execution_count": 45,
     "metadata": {},
     "output_type": "execute_result"
    }
   ],
   "source": [
    "1 - np.array(gamma.cdf(17.6))"
   ]
  },
  {
   "cell_type": "code",
   "execution_count": 34,
   "metadata": {},
   "outputs": [
    {
     "data": {
      "image/png": "[encoded data removed]",
      "text/plain": [
       "<Figure size 640x480 with 1 Axes>"
      ]
     },
     "metadata": {},
     "output_type": "display_data"
    }
   ],
   "source": [
    "x = np.linspace (0, 1000, 100) \n",
    "\n",
    "#calculate pdf of Gamma distribution for each x-value\n",
    "y = gamma.pdf(x)\n",
    "\n",
    "#create plot of Gamma distribution\n",
    "plt.plot(x, y)\n",
    "#counts, bins = np.histogram(variances,density=True,bins=40)\n",
    "#plt.stairs(counts, bins)\n",
    "#display plot\n",
    "plt.show()"
   ]
  },
  {
   "cell_type": "code",
   "execution_count": 44,
   "metadata": {},
   "outputs": [],
   "source": [
    "def mutate2(mut_prob,offspring):\n",
    "    if random.random() < mut_prob:\n",
    "        randomlist = np.random.randint(0,len(offspring), size=random.randint(1,15))\n",
    "        randomlist1 = np.random.randint(0,len(offspring), size=random.randint(1,10))\n",
    "        for ind in randomlist:\n",
    "            offspring[ind] = (offspring[ind] + 1) % 2\n",
    "        offspring[randomlist1] = 0\n",
    "    if len(offspring) - sum(offspring) < max_removed:\n",
    "        return offspring\n",
    "    zeros = np.random.permutation(np.where(offspring==0)[0])[:round(max_removed*0.9)]\n",
    "    offspring = np.ones_like(offspring)\n",
    "    offspring[zeros] = 0\n",
    "    return offspring\n",
    "\n",
    "def mutation_func2(offspring, ga_instance):\n",
    "    mut = partial(mutate2, ga_instance.mutation_probability)\n",
    "\n",
    "    # create and configure the process pool\n",
    "    with mp.Pool() as pool2:\n",
    "        # execute tasks in order\n",
    "        res = pool2.map(mut, offspring)\n",
    "        return np.array(res)"
   ]
  },
  {
   "cell_type": "code",
   "execution_count": 11,
   "metadata": {},
   "outputs": [
    {
     "ename": "AttributeError",
     "evalue": "'NoneType' object has no attribute 'mutation_probability'",
     "output_type": "error",
     "traceback": [
      "\u001b[0;31m---------------------------------------------------------------------------\u001b[0m",
      "\u001b[0;31mAttributeError\u001b[0m                            Traceback (most recent call last)",
      "Cell \u001b[0;32mIn[11], line 1\u001b[0m\n\u001b[0;32m----> 1\u001b[0m mutation_func2([np\u001b[39m.\u001b[39;49mones(arr\u001b[39m.\u001b[39;49mshape[\u001b[39m0\u001b[39;49m]),np\u001b[39m.\u001b[39;49mzeros(arr\u001b[39m.\u001b[39;49mshape[\u001b[39m0\u001b[39;49m])],\u001b[39mNone\u001b[39;49;00m)\n",
      "Cell \u001b[0;32mIn[10], line 16\u001b[0m, in \u001b[0;36mmutation_func2\u001b[0;34m(offspring, ga_instance)\u001b[0m\n\u001b[1;32m     15\u001b[0m \u001b[39mdef\u001b[39;00m \u001b[39mmutation_func2\u001b[39m(offspring, ga_instance):\n\u001b[0;32m---> 16\u001b[0m     mut \u001b[39m=\u001b[39m partial(mutate2, ga_instance\u001b[39m.\u001b[39;49mmutation_probability)\n\u001b[1;32m     18\u001b[0m     \u001b[39m# create and configure the process pool\u001b[39;00m\n\u001b[1;32m     19\u001b[0m     \u001b[39mwith\u001b[39;00m mp\u001b[39m.\u001b[39mPool() \u001b[39mas\u001b[39;00m pool2:\n\u001b[1;32m     20\u001b[0m         \u001b[39m# execute tasks in order\u001b[39;00m\n",
      "\u001b[0;31mAttributeError\u001b[0m: 'NoneType' object has no attribute 'mutation_probability'"
     ]
    }
   ],
   "source": [
    "mutation_func2([np.ones(arr.shape[0]),np.zeros(arr.shape[0])],None)"
   ]
  },
  {
   "cell_type": "code",
   "execution_count": 12,
   "metadata": {},
   "outputs": [],
   "source": [
    "pool = mp.Pool(mp.cpu_count())\n",
    "def compute_fitness(solution):\n",
    "    up = solution.dot(age_weighted)\n",
    "    down = solution.dot(ex_data_n)\n",
    "    avgs = np.divide(up,down)\n",
    "    num_not_removed = np.sum(solution,axis = 1)\n",
    "    num_removed = solution.shape[1] - num_not_removed\n",
    "    fitt = (1 - np.array(gamma.cdf(np.var(avgs,axis=1))) + (num_not_removed/solution.shape[1])) * np.multiply(num_removed < max_removed,1)\n",
    "    return fitt\n",
    "\n",
    "def fitness_batch(ga_instance, solution, solution_idx):\n",
    "    sols = np.array_split(solution, mp.cpu_count())\n",
    "    fitt = np.concatenate(pool.map(compute_fitness,sols))\n",
    "    return fitt     \n",
    "    "
   ]
  },
  {
   "cell_type": "code",
   "execution_count": 287,
   "metadata": {},
   "outputs": [],
   "source": [
    "def fitness(ga_instance, solution, solution_idx):\n",
    "    up = solution.dot(age_weighted)\n",
    "    down = solution.dot(ex_data_n)\n",
    "    avgs = np.divide(up,down)\n",
    "    num_not_removed = np.sum(solution,axis = 1)\n",
    "    num_removed = solution.shape[1] - num_not_removed\n",
    "    fitt = (1 - np.array(gamma.cdf(np.var(avgs,axis=1)))) * np.multiply(num_removed < max_removed,1)\n",
    "    return fitt\n"
   ]
  },
  {
   "cell_type": "code",
   "execution_count": 89,
   "metadata": {},
   "outputs": [],
   "source": [
    "def tai_var(solution):\n",
    "    up = solution.dot(age_weighted)\n",
    "    down = solution.dot(ex_data_n)\n",
    "    avgs = np.divide(up,down)\n",
    "    return np.var(avgs)"
   ]
  },
  {
   "cell_type": "code",
   "execution_count": 312,
   "metadata": {},
   "outputs": [],
   "source": [
    "def p_value_test(solution):\n",
    "    return  1 - np.array(gamma.cdf(tai_var(solution)))\n",
    "    "
   ]
  },
  {
   "cell_type": "code",
   "execution_count": 121,
   "metadata": {},
   "outputs": [
    {
     "data": {
      "text/plain": [
       "0.192594556818371"
      ]
     },
     "execution_count": 121,
     "metadata": {},
     "output_type": "execute_result"
    }
   ],
   "source": [
    "1 - np.array(gamma.cdf(0.13805062479925795))"
   ]
  },
  {
   "cell_type": "code",
   "execution_count": 120,
   "metadata": {},
   "outputs": [
    {
     "data": {
      "text/plain": [
       "0.13805062479925795"
      ]
     },
     "execution_count": 120,
     "metadata": {},
     "output_type": "execute_result"
    }
   ],
   "source": [
    "gamma.mean()"
   ]
  },
  {
   "cell_type": "code",
   "execution_count": 69,
   "metadata": {},
   "outputs": [],
   "source": [
    "def var_batch(solution):\n",
    "    up = solution.dot(age_weighted)\n",
    "    down = solution.dot(ex_data_n)\n",
    "    avgs = np.divide(up,down)\n",
    "    return np.var(avgs,axis=1)"
   ]
  },
  {
   "cell_type": "code",
   "execution_count": 15,
   "metadata": {},
   "outputs": [],
   "source": [
    "def get_ex_hist(removed_genes):\n",
    "    variances = removed_genes.iloc[:, 2:].var(axis=1)\n",
    "    variances_df = pd.DataFrame(data={'removed': variances, 'removed_cv': variances/removed_genes.iloc[:, 2:].mean(axis=1),'all': ex_data.var(axis=1),'all_cv': ex_data.var(axis=1)/ex_data.mean(axis=1)})\n",
    "    sns.histplot(data=variances_df,x=\"removed\",stat=\"density\",binrange=(0,10000),fill=False,common_norm=False,bins=30,label=\"removed\")\n",
    "    sns.histplot(data=variances_df,x=\"all\",stat=\"density\",binrange=(0,10000),fill=False,common_norm=False,bins=30,label=\"all\")\n",
    "    plt.legend()"
   ]
  },
  {
   "cell_type": "code",
   "execution_count": 49,
   "metadata": {},
   "outputs": [],
   "source": [
    "def print_curve(solution,label=None):\n",
    "    up = solution.dot(age_weighted)\n",
    "    down = solution.dot(ex_data_n)\n",
    "    avgs = np.divide(up,down)\n",
    "    print(np.var(avgs))\n",
    "    plt.ylim(3, 3.8)\n",
    "    plt.plot(list(range(7)),avgs,'-o',label=label)\n",
    "    if label:\n",
    "        plt.legend()\n",
    "    "
   ]
  },
  {
   "cell_type": "code",
   "execution_count": 17,
   "metadata": {},
   "outputs": [],
   "source": [
    "def get_sol_from_indices(indices):\n",
    "    ones = np.ones_like(solution)\n",
    "    ones[indices] = 0\n",
    "    return ones"
   ]
  },
  {
   "cell_type": "code",
   "execution_count": 318,
   "metadata": {},
   "outputs": [],
   "source": [
    "def create_population(size,init_num_removed):\n",
    "    return np.array([random.choices([0,1], weights=(1, random.randint(arr.shape[0]//(init_num_removed*3),arr.shape[0]//init_num_removed)), k=arr.shape[0]) for _  in range(size)])"
   ]
  },
  {
   "cell_type": "code",
   "execution_count": 19,
   "metadata": {},
   "outputs": [
    {
     "name": "stdout",
     "output_type": "stream",
     "text": [
      "0.009837646583158657\n"
     ]
    },
    {
     "data": {
      "image/png": "[encoded data removed]",
      "text/plain": [
       "<Figure size 640x480 with 1 Axes>"
      ]
     },
     "metadata": {},
     "output_type": "display_data"
    }
   ],
   "source": [
    "print_curve(np.ones(high_var.shape[0]), label=\"all genes\")"
   ]
  },
  {
   "cell_type": "code",
   "execution_count": 20,
   "metadata": {},
   "outputs": [],
   "source": [
    "solution = None"
   ]
  },
  {
   "cell_type": "code",
   "execution_count": 21,
   "metadata": {},
   "outputs": [],
   "source": [
    "def mutate(mut_prob,offspring):\n",
    "    for chromosome_idx in range(offspring.shape[0]):\n",
    "        if random.random() < mut_prob:\n",
    "            randomlist = np.random.randint(0,offspring.shape[1], size=random.randint(1,15))\n",
    "            randomlist1 = np.random.randint(0,offspring.shape[1], size=random.randint(1,10))\n",
    "            for ind in randomlist:\n",
    "                offspring[chromosome_idx][ind] = (offspring[chromosome_idx][ind] + 1) % 2\n",
    "            offspring[chromosome_idx][randomlist1] = 0\n",
    "            if offspring.shape[1] - sum(offspring[chromosome_idx]) > max_removed:\n",
    "                zeros = np.random.permutation(np.where(offspring==0)[0])[:round(max_removed*0.9)]\n",
    "                offs = np.ones_like(offspring[chromosome_idx])\n",
    "                offs[zeros] = 0\n",
    "                offspring[chromosome_idx] = offs\n",
    "    return offspring\n",
    "\n",
    "def mutation_func(offspring, ga_instance):\n",
    "    offs = np.array_split(offspring, mp.cpu_count())\n",
    "    mut = partial(mutate, ga_instance.mutation_probability)\n",
    "    offspring = np.concatenate(pool.map(mut,offs))\n",
    "\n",
    "    return offspring\n"
   ]
  },
  {
   "cell_type": "code",
   "execution_count": 190,
   "metadata": {},
   "outputs": [],
   "source": [
    "def on_gen(ga_instance):\n",
    "    if ga_instance.generations_completed % 5 == 1:\n",
    "        print(\"Generation : \", ga_instance.generations_completed)\n",
    "        print(\"Fitness of the best solution :\", ga_instance.best_solution()[1])\n",
    "        print(\"Variance of the best solution :\", tai_var(ga_instance.best_solution()[0]))\n",
    "        #print(\"P-value of the best solution :\", p_value_test(ga_instance.best_solution()[0]))\n",
    "        print(\"Length of the best solution :\", len(ga_instance.best_solution()[0]) - sum(ga_instance.best_solution()[0]))\n",
    "        \n"
   ]
  },
  {
   "cell_type": "code",
   "execution_count": 24,
   "metadata": {},
   "outputs": [],
   "source": [
    "def crossover_funct(parents, offspring_size,ga_instance):\n",
    "    offspring = np.empty(offspring_size)\n",
    "    for i in range(offspring_size[0]//2):\n",
    "        indices = np.random.choice(range(len(parents)), size=2)\n",
    "        if ga_instance.crossover_probability > np.random.random():\n",
    "           offspring[2*i] = parents[indices[0]]\n",
    "           offspring[2*i+1] = parents[indices[1]]\n",
    "        else:\n",
    "            gene_sources = np.random.randint(0, 2, size=ga_instance.num_genes)\n",
    "            swaps = np.random.choice(range(len(parents)), size=ga_instance.num_genes * 0.05,replace=False)\n",
    "            offspring[2*i] = np.where(swaps, parents[indices[0]], parents[indices[1]])\n",
    "            offspring[2*i+1] = np.where(gene_sources == 0, parents[indices[1]], parents[indices[0]])\n",
    "    if offspring_size[0] % 2 == 1:\n",
    "        offspring[-1,:] = parents[np.random.choice(range(len(parents)))]\n",
    "    return offspring"
   ]
  },
  {
   "cell_type": "code",
   "execution_count": 36,
   "metadata": {},
   "outputs": [],
   "source": [
    "def no_crossover(parents, offspring_size,ga_instance):\n",
    "    chosen = np.random.randint(0,len(parents),size=offspring_size[0])\n",
    "    return parents[chosen]\n"
   ]
  },
  {
   "cell_type": "code",
   "execution_count": 25,
   "metadata": {},
   "outputs": [],
   "source": [
    "\n",
    "def scattered_crossover_cus(parents, offspring_size,ga_instance):\n",
    "\n",
    "    \"\"\"\n",
    "    Applies the scattered crossover. It randomly selects the gene from one of the 2 parents. \n",
    "    It accepts 2 parameters:\n",
    "        -parents: The parents to mate for producing the offspring.\n",
    "        -offspring_size: The size of the offspring to produce.\n",
    "    It returns an array the produced offspring.\n",
    "    \"\"\"\n",
    "\n",
    "    offspring = np.empty(offspring_size, dtype=object)\n",
    "\n",
    "    for k in range(offspring_size[0]):\n",
    "        if not (ga_instance.crossover_probability is None):\n",
    "            probs = np.random.random(size=parents.shape[0])\n",
    "            indices = np.where(probs <= ga_instance.crossover_probability)[0]\n",
    "\n",
    "            # If no parent satisfied the probability, no crossover is applied and a parent is selected.\n",
    "            if len(indices) == 0:\n",
    "                offspring[k, :] = parents[k % parents.shape[0], :]\n",
    "                continue\n",
    "            elif len(indices) == 1:\n",
    "                parent1_idx = indices[0]\n",
    "                parent2_idx = parent1_idx\n",
    "            else:\n",
    "                indices = random.sample(list(set(indices)), 2)\n",
    "                parent1_idx = indices[0]\n",
    "                parent2_idx = indices[1]\n",
    "        else:\n",
    "            # Index of the first parent to mate.\n",
    "            parent1_idx = k % parents.shape[0]\n",
    "            # Index of the second parent to mate.\n",
    "            parent2_idx = (k+1) % parents.shape[0]\n",
    "\n",
    "        # A 0/1 vector where 0 means the gene is taken from the first parent and 1 means the gene is taken from the second parent.\n",
    "        gene_sources = np.random.randint(0, 4, size=ga_instance.num_genes)\n",
    "        offspring[k, :] =  np.where(gene_sources > 0, parents[parent1_idx, :], parents[parent2_idx, :])\n",
    "\n",
    "    return offspring"
   ]
  },
  {
   "cell_type": "code",
   "execution_count": 302,
   "metadata": {},
   "outputs": [],
   "source": [
    "\"\"\"\n",
    "level = logging.DEBUG\n",
    "name = 'logfile.txt'\n",
    "\n",
    "logger = logging.getLogger(name)\n",
    "logger.setLevel(level)\n",
    "\n",
    "\n",
    "console_handler = logging.StreamHandler()\n",
    "console_handler.setLevel(logging.INFO)\n",
    "console_format = logging.Formatter('%(message)s')\n",
    "console_handler.setFormatter(console_format)\n",
    "logger.addHandler(console_handler)\n",
    "\"\"\"\n",
    "def run_GA():\n",
    "    #prev_solution = solution\n",
    "    num_threads = 4\n",
    "    pop_size = 2500\n",
    "    population = create_population(pop_size,3)\n",
    "\n",
    "    ga_instance = pygad.GA(num_generations=130,\n",
    "                        num_parents_mating=round(pop_size * 0.15),\n",
    "                        fitness_func=fitness,\n",
    "                        fitness_batch_size=population.shape[0],\n",
    "                        initial_population=population,\n",
    "                        on_generation=on_gen,\n",
    "                        mutation_type=mutation_func2,\n",
    "                        #crossover_type=crossover_funct,\n",
    "                        crossover_probability=0.2,\n",
    "                        mutation_probability=0.55,\n",
    "                        init_range_low=0,\n",
    "                        init_range_high=2,\n",
    "                        gene_type=int,\n",
    "                        \n",
    "                        crossover_type=\"scattered\",\n",
    "                        parallel_processing=[\"thread\", num_threads],\n",
    "                        save_best_solutions=True,\n",
    "                        keep_elitism=1\n",
    "                        )\n",
    "\n",
    "    ga_instance.run()\n",
    "\n",
    "    solution, solution_fitness, solution_idx = ga_instance.best_solution()\n",
    "    return ga_instance"
   ]
  },
  {
   "cell_type": "code",
   "execution_count": 317,
   "metadata": {},
   "outputs": [
    {
     "name": "stderr",
     "output_type": "stream",
     "text": [
      "/usr/local/lib/python3.10/site-packages/pygad/pygad.py:1074: UserWarning: Use the 'save_best_solutions' parameter with caution as it may cause memory overflow when either the number of generations or number of genes is large.\n",
      "  if not self.suppress_warnings: warnings.warn(\"Use the 'save_best_solutions' parameter with caution as it may cause memory overflow when either the number of generations or number of genes is large.\")\n"
     ]
    },
    {
     "name": "stdout",
     "output_type": "stream",
     "text": [
      "Generation :  1\n",
      "Fitness of the best solution : 0.4470635938647334\n",
      "Variance of the best solution : 0.009011928179502028\n",
      "Length of the best solution : 22\n",
      "Generation :  6\n",
      "Fitness of the best solution : 0.4763968187332628\n",
      "Variance of the best solution : 0.00580227018217695\n",
      "Length of the best solution : 109\n",
      "Generation :  11\n",
      "Fitness of the best solution : 0.5110221729092617\n",
      "Variance of the best solution : 0.0033419081573638075\n",
      "Length of the best solution : 145\n",
      "Generation :  16\n",
      "Fitness of the best solution : 0.5416593828497499\n",
      "Variance of the best solution : 0.0019847301663569873\n",
      "Length of the best solution : 193\n",
      "Generation :  21\n",
      "Fitness of the best solution : 0.5712428399454276\n",
      "Variance of the best solution : 0.0011604856682185878\n",
      "Length of the best solution : 191\n",
      "Generation :  26\n",
      "Fitness of the best solution : 0.601336809184599\n",
      "Variance of the best solution : 0.0006469048374060415\n",
      "Length of the best solution : 189\n",
      "Generation :  31\n",
      "Fitness of the best solution : 0.6273580316646133\n",
      "Variance of the best solution : 0.0003766982316238395\n",
      "Length of the best solution : 190\n",
      "Generation :  36\n",
      "Fitness of the best solution : 0.6486364382169694\n",
      "Variance of the best solution : 0.0002355701128292429\n",
      "Length of the best solution : 196\n",
      "Generation :  41\n",
      "Fitness of the best solution : 0.6755042459151541\n",
      "Variance of the best solution : 0.00012532425048029935\n",
      "Length of the best solution : 197\n",
      "Generation :  46\n",
      "Fitness of the best solution : 0.690526931002675\n",
      "Variance of the best solution : 8.63467385862877e-05\n",
      "Length of the best solution : 190\n",
      "Generation :  51\n",
      "Fitness of the best solution : 0.701802306199686\n",
      "Variance of the best solution : 6.46795607362991e-05\n",
      "Length of the best solution : 198\n",
      "Generation :  56\n",
      "Fitness of the best solution : 0.7109308889695855\n",
      "Variance of the best solution : 5.090169548017672e-05\n",
      "Length of the best solution : 196\n",
      "Generation :  61\n",
      "Fitness of the best solution : 0.7267593917082897\n",
      "Variance of the best solution : 3.3243367269735064e-05\n",
      "Length of the best solution : 198\n",
      "Generation :  66\n",
      "Fitness of the best solution : 0.7377495088904089\n",
      "Variance of the best solution : 2.457884828492212e-05\n",
      "Length of the best solution : 198\n",
      "Generation :  71\n",
      "Fitness of the best solution : 0.7478457045730822\n",
      "Variance of the best solution : 1.8583881961424498e-05\n",
      "Length of the best solution : 190\n",
      "Generation :  76\n",
      "Fitness of the best solution : 0.7579536771744251\n",
      "Variance of the best solution : 1.4057879515322775e-05\n",
      "Length of the best solution : 198\n",
      "Generation :  81\n",
      "Fitness of the best solution : 0.7712614178485657\n",
      "Variance of the best solution : 9.814513733184773e-06\n",
      "Length of the best solution : 192\n",
      "Generation :  86\n",
      "Fitness of the best solution : 0.7859107427782019\n",
      "Variance of the best solution : 6.7743761409345e-06\n",
      "Length of the best solution : 197\n",
      "Generation :  91\n",
      "Fitness of the best solution : 0.8126247812330755\n",
      "Variance of the best solution : 3.931687916501618e-06\n",
      "Length of the best solution : 194\n",
      "Generation :  96\n",
      "Fitness of the best solution : 0.8500073214712385\n",
      "Variance of the best solution : 2.7004140399173975e-06\n",
      "Length of the best solution : 198\n",
      "Generation :  101\n",
      "Fitness of the best solution : 1.0\n",
      "Variance of the best solution : 2.3582710470151048e-06\n",
      "Length of the best solution : 193\n",
      "Generation :  106\n",
      "Fitness of the best solution : 1.0\n",
      "Variance of the best solution : 2.365844605833283e-06\n",
      "Length of the best solution : 194\n",
      "Generation :  111\n",
      "Fitness of the best solution : 1.0\n",
      "Variance of the best solution : 2.2552844902390718e-06\n",
      "Length of the best solution : 198\n",
      "Generation :  116\n",
      "Fitness of the best solution : 1.0\n",
      "Variance of the best solution : 2.18120398578526e-06\n",
      "Length of the best solution : 191\n",
      "Generation :  121\n",
      "Fitness of the best solution : 1.0\n",
      "Variance of the best solution : 2.1660508282207307e-06\n",
      "Length of the best solution : 198\n",
      "Generation :  126\n",
      "Fitness of the best solution : 1.0\n",
      "Variance of the best solution : 2.4030869773657624e-06\n",
      "Length of the best solution : 195\n",
      "Generation :  1\n",
      "Fitness of the best solution : 0.4479914870211057\n",
      "Variance of the best solution : 0.008890380664450507\n",
      "Length of the best solution : 107\n",
      "Generation :  6\n",
      "Fitness of the best solution : 0.4771972429047239\n",
      "Variance of the best solution : 0.005731071747274017\n",
      "Length of the best solution : 91\n",
      "Generation :  11\n",
      "Fitness of the best solution : 0.510478386427814\n",
      "Variance of the best solution : 0.0033719732107616563\n",
      "Length of the best solution : 136\n",
      "Generation :  16\n",
      "Fitness of the best solution : 0.541509537027592\n",
      "Variance of the best solution : 0.0019899583759083873\n",
      "Length of the best solution : 184\n",
      "Generation :  21\n",
      "Fitness of the best solution : 0.5648811507148119\n",
      "Variance of the best solution : 0.0013063524348932672\n",
      "Length of the best solution : 199\n",
      "Generation :  26\n",
      "Fitness of the best solution : 0.5877271800741533\n",
      "Variance of the best solution : 0.0008469331242571619\n",
      "Length of the best solution : 198\n",
      "Generation :  31\n",
      "Fitness of the best solution : 0.6136020199345092\n",
      "Variance of the best solution : 0.000503539440572656\n",
      "Length of the best solution : 197\n",
      "Generation :  36\n",
      "Fitness of the best solution : 0.6366415980845154\n",
      "Variance of the best solution : 0.0003079052620609815\n",
      "Length of the best solution : 188\n",
      "Generation :  41\n",
      "Fitness of the best solution : 0.6545679629854935\n",
      "Variance of the best solution : 0.0002057106535401962\n",
      "Length of the best solution : 192\n",
      "Generation :  46\n",
      "Fitness of the best solution : 0.6768286756792755\n",
      "Variance of the best solution : 0.00012134469340266529\n",
      "Length of the best solution : 195\n",
      "Generation :  51\n",
      "Fitness of the best solution : 0.6920650077782825\n",
      "Variance of the best solution : 8.304850082920892e-05\n",
      "Length of the best solution : 190\n",
      "Generation :  56\n",
      "Fitness of the best solution : 0.6978361735534009\n",
      "Variance of the best solution : 7.166281888712836e-05\n",
      "Length of the best solution : 194\n",
      "Generation :  61\n",
      "Fitness of the best solution : 0.7099363354764684\n",
      "Variance of the best solution : 5.225989949019166e-05\n",
      "Length of the best solution : 190\n",
      "Generation :  66\n",
      "Fitness of the best solution : 0.7219529072158966\n",
      "Variance of the best solution : 3.788337782197235e-05\n",
      "Length of the best solution : 186\n",
      "Generation :  71\n",
      "Fitness of the best solution : 0.7302156806167619\n",
      "Variance of the best solution : 3.0244521984547542e-05\n",
      "Length of the best solution : 194\n",
      "Generation :  76\n",
      "Fitness of the best solution : 0.7443739066981025\n",
      "Variance of the best solution : 2.0460842394560307e-05\n",
      "Length of the best solution : 191\n",
      "Generation :  81\n",
      "Fitness of the best solution : 0.7590171160584145\n",
      "Variance of the best solution : 1.3653784297036927e-05\n",
      "Length of the best solution : 199\n",
      "Generation :  86\n",
      "Fitness of the best solution : 0.780008625316597\n",
      "Variance of the best solution : 7.831684617440048e-06\n",
      "Length of the best solution : 192\n",
      "Generation :  91\n",
      "Fitness of the best solution : 0.8012304290286008\n",
      "Variance of the best solution : 4.83061288285387e-06\n",
      "Length of the best solution : 192\n",
      "Generation :  96\n",
      "Fitness of the best solution : 0.8139138768339506\n",
      "Variance of the best solution : 3.851811234562588e-06\n",
      "Length of the best solution : 198\n",
      "Generation :  101\n",
      "Fitness of the best solution : 1.0\n",
      "Variance of the best solution : 2.393826537062767e-06\n",
      "Length of the best solution : 197\n",
      "Generation :  106\n",
      "Fitness of the best solution : 1.0\n",
      "Variance of the best solution : 2.4236396256419426e-06\n",
      "Length of the best solution : 199\n",
      "Generation :  111\n",
      "Fitness of the best solution : 1.0\n",
      "Variance of the best solution : 2.3910225767549666e-06\n",
      "Length of the best solution : 193\n",
      "Generation :  116\n",
      "Fitness of the best solution : 1.0\n",
      "Variance of the best solution : 2.050487088532558e-06\n",
      "Length of the best solution : 191\n",
      "Generation :  121\n",
      "Fitness of the best solution : 1.0\n",
      "Variance of the best solution : 2.426394432263171e-06\n",
      "Length of the best solution : 197\n",
      "Generation :  126\n",
      "Fitness of the best solution : 1.0\n",
      "Variance of the best solution : 1.8107929459855622e-06\n",
      "Length of the best solution : 192\n",
      "Generation :  1\n",
      "Fitness of the best solution : 0.4474873126562172\n",
      "Variance of the best solution : 0.00895624350661234\n",
      "Length of the best solution : 46\n",
      "Generation :  6\n",
      "Fitness of the best solution : 0.47741829539645186\n",
      "Variance of the best solution : 0.005711544846558911\n",
      "Length of the best solution : 86\n",
      "Generation :  11\n",
      "Fitness of the best solution : 0.5087979599725252\n",
      "Variance of the best solution : 0.0034663881799375\n",
      "Length of the best solution : 133\n",
      "Generation :  16\n",
      "Fitness of the best solution : 0.5424530378925404\n",
      "Variance of the best solution : 0.0019572396678221473\n",
      "Length of the best solution : 198\n",
      "Generation :  21\n",
      "Fitness of the best solution : 0.5656745260771482\n",
      "Variance of the best solution : 0.0012873242290130284\n",
      "Length of the best solution : 193\n",
      "Generation :  26\n",
      "Fitness of the best solution : 0.5911960083680455\n",
      "Variance of the best solution : 0.0007913816274751488\n",
      "Length of the best solution : 184\n",
      "Generation :  31\n",
      "Fitness of the best solution : 0.6201667228107935\n",
      "Variance of the best solution : 0.0004389619963179448\n",
      "Length of the best solution : 189\n",
      "Generation :  36\n",
      "Fitness of the best solution : 0.6398852277157496\n",
      "Variance of the best solution : 0.00028663117056818314\n",
      "Length of the best solution : 176\n",
      "Generation :  41\n",
      "Fitness of the best solution : 0.6613587671031991\n",
      "Variance of the best solution : 0.0001756854412020889\n",
      "Length of the best solution : 184\n",
      "Generation :  46\n",
      "Fitness of the best solution : 0.6851858444478922\n",
      "Variance of the best solution : 9.873665506592389e-05\n",
      "Length of the best solution : 190\n",
      "Generation :  51\n",
      "Fitness of the best solution : 0.7057150686968162\n",
      "Variance of the best solution : 5.8402950274003354e-05\n",
      "Length of the best solution : 198\n",
      "Generation :  56\n",
      "Fitness of the best solution : 0.7156121088096092\n",
      "Variance of the best solution : 4.493495709908929e-05\n",
      "Length of the best solution : 198\n",
      "Generation :  61\n",
      "Fitness of the best solution : 0.7266464569898816\n",
      "Variance of the best solution : 3.334595734560731e-05\n",
      "Length of the best solution : 197\n",
      "Generation :  66\n",
      "Fitness of the best solution : 0.7389893606397646\n",
      "Variance of the best solution : 2.375072991288223e-05\n",
      "Length of the best solution : 190\n",
      "Generation :  71\n",
      "Fitness of the best solution : 0.7471043545512025\n",
      "Variance of the best solution : 1.8969607416473193e-05\n",
      "Length of the best solution : 195\n",
      "Generation :  76\n",
      "Fitness of the best solution : 0.7591510138001984\n",
      "Variance of the best solution : 1.3603788800749475e-05\n",
      "Length of the best solution : 194\n",
      "Generation :  81\n",
      "Fitness of the best solution : 0.7785372098824963\n",
      "Variance of the best solution : 8.128143036786802e-06\n",
      "Length of the best solution : 198\n",
      "Generation :  86\n",
      "Fitness of the best solution : 0.7914247009939384\n",
      "Variance of the best solution : 5.955885645228207e-06\n",
      "Length of the best solution : 199\n",
      "Generation :  91\n",
      "Fitness of the best solution : 0.8131155260401505\n",
      "Variance of the best solution : 3.900820725396264e-06\n",
      "Length of the best solution : 188\n",
      "Generation :  96\n",
      "Fitness of the best solution : 0.8438942688039023\n",
      "Variance of the best solution : 2.7938674752047794e-06\n",
      "Length of the best solution : 197\n",
      "Generation :  101\n",
      "Fitness of the best solution : 1.0\n",
      "Variance of the best solution : 2.4466088844334395e-06\n",
      "Length of the best solution : 198\n",
      "Generation :  106\n",
      "Fitness of the best solution : 1.0\n",
      "Variance of the best solution : 2.4487428525490933e-06\n",
      "Length of the best solution : 199\n",
      "Generation :  111\n",
      "Fitness of the best solution : 1.0\n",
      "Variance of the best solution : 1.9509419979373068e-06\n",
      "Length of the best solution : 198\n",
      "Generation :  116\n",
      "Fitness of the best solution : 1.0\n",
      "Variance of the best solution : 1.754982532950816e-06\n",
      "Length of the best solution : 194\n",
      "Generation :  121\n",
      "Fitness of the best solution : 1.0\n",
      "Variance of the best solution : 2.183076274654296e-06\n",
      "Length of the best solution : 194\n",
      "Generation :  126\n",
      "Fitness of the best solution : 1.0\n",
      "Variance of the best solution : 1.961847939676376e-06\n",
      "Length of the best solution : 196\n"
     ]
    }
   ],
   "source": [
    "max_removed = 200\n",
    "solls = []\n",
    "for _ in range(3):\n",
    "    solls.append(run_GA())\n"
   ]
  },
  {
   "cell_type": "code",
   "execution_count": 304,
   "metadata": {},
   "outputs": [
    {
     "name": "stderr",
     "output_type": "stream",
     "text": [
      "/usr/local/lib/python3.10/site-packages/pygad/pygad.py:1074: UserWarning: Use the 'save_best_solutions' parameter with caution as it may cause memory overflow when either the number of generations or number of genes is large.\n",
      "  if not self.suppress_warnings: warnings.warn(\"Use the 'save_best_solutions' parameter with caution as it may cause memory overflow when either the number of generations or number of genes is large.\")\n"
     ]
    },
    {
     "name": "stdout",
     "output_type": "stream",
     "text": [
      "Generation :  1\n",
      "Fitness of the best solution : 0.44901763122887106\n",
      "Variance of the best solution : 0.008757647209621296\n",
      "Length of the best solution : 55\n",
      "Generation :  6\n",
      "Fitness of the best solution : 0.47908082033028776\n",
      "Variance of the best solution : 0.00556654915231472\n",
      "Length of the best solution : 93\n",
      "Generation :  11\n",
      "Fitness of the best solution : 0.5051819398386673\n",
      "Variance of the best solution : 0.0036774666157919364\n",
      "Length of the best solution : 121\n",
      "Generation :  16\n",
      "Fitness of the best solution : 0.538825651095003\n",
      "Variance of the best solution : 0.0020856711276996984\n",
      "Length of the best solution : 181\n",
      "Generation :  21\n",
      "Fitness of the best solution : 0.5659306101431877\n",
      "Variance of the best solution : 0.001281234528979854\n",
      "Length of the best solution : 193\n",
      "Generation :  26\n",
      "Fitness of the best solution : 0.5928708854538074\n",
      "Variance of the best solution : 0.0007657252678339963\n",
      "Length of the best solution : 198\n",
      "Generation :  31\n",
      "Fitness of the best solution : 0.6211064104323569\n",
      "Variance of the best solution : 0.0004303425886027592\n",
      "Length of the best solution : 196\n",
      "Generation :  36\n",
      "Fitness of the best solution : 0.6429912464706775\n",
      "Variance of the best solution : 0.00026748769329743705\n",
      "Length of the best solution : 198\n",
      "Generation :  41\n",
      "Fitness of the best solution : 0.6640718608156357\n",
      "Variance of the best solution : 0.00016482288877854042\n",
      "Length of the best solution : 198\n",
      "Generation :  46\n",
      "Fitness of the best solution : 0.6841606758941104\n",
      "Variance of the best solution : 0.000101289846321143\n",
      "Length of the best solution : 193\n",
      "Generation :  51\n",
      "Fitness of the best solution : 0.7006062109944173\n",
      "Variance of the best solution : 6.671741941685519e-05\n",
      "Length of the best solution : 188\n",
      "Generation :  56\n",
      "Fitness of the best solution : 0.7126232652078606\n",
      "Variance of the best solution : 4.866497062066512e-05\n",
      "Length of the best solution : 192\n",
      "Generation :  61\n",
      "Fitness of the best solution : 0.7205642814236357\n",
      "Variance of the best solution : 3.933307166692143e-05\n",
      "Length of the best solution : 192\n",
      "Generation :  66\n",
      "Fitness of the best solution : 0.7309431101547663\n",
      "Variance of the best solution : 2.9647026220730603e-05\n",
      "Length of the best solution : 197\n",
      "Generation :  71\n",
      "Fitness of the best solution : 0.7447191924757672\n",
      "Variance of the best solution : 2.0265978923539818e-05\n",
      "Length of the best solution : 188\n",
      "Generation :  76\n",
      "Fitness of the best solution : 0.7605565601286666\n",
      "Variance of the best solution : 1.309065429047736e-05\n",
      "Length of the best solution : 191\n",
      "Generation :  81\n",
      "Fitness of the best solution : 0.7743576051008574\n",
      "Variance of the best solution : 9.049743911344332e-06\n",
      "Length of the best solution : 196\n",
      "Generation :  86\n",
      "Fitness of the best solution : 0.7930537097665585\n",
      "Variance of the best solution : 5.741689496897435e-06\n",
      "Length of the best solution : 198\n",
      "Generation :  91\n",
      "Fitness of the best solution : 0.801695665007409\n",
      "Variance of the best solution : 4.786202882300939e-06\n",
      "Length of the best solution : 191\n",
      "Generation :  96\n",
      "Fitness of the best solution : 0.8269615803809633\n",
      "Variance of the best solution : 3.232593272645528e-06\n",
      "Length of the best solution : 191\n",
      "Generation :  101\n",
      "Fitness of the best solution : 1.0\n",
      "Variance of the best solution : 2.3537447974097177e-06\n",
      "Length of the best solution : 194\n",
      "Generation :  106\n",
      "Fitness of the best solution : 1.0\n",
      "Variance of the best solution : 2.393636233062862e-06\n",
      "Length of the best solution : 194\n",
      "Generation :  111\n",
      "Fitness of the best solution : 1.0\n",
      "Variance of the best solution : 1.924113037180761e-06\n",
      "Length of the best solution : 191\n",
      "Generation :  116\n",
      "Fitness of the best solution : 1.0\n",
      "Variance of the best solution : 1.9510484733272224e-06\n",
      "Length of the best solution : 198\n",
      "Generation :  121\n",
      "Fitness of the best solution : 1.0\n",
      "Variance of the best solution : 2.006468256039395e-06\n",
      "Length of the best solution : 193\n",
      "Generation :  126\n",
      "Fitness of the best solution : 1.0\n",
      "Variance of the best solution : 2.2218605877367727e-06\n",
      "Length of the best solution : 192\n",
      "Generation :  1\n",
      "Fitness of the best solution : 0.4467277610690452\n",
      "Variance of the best solution : 0.009056279485544284\n",
      "Length of the best solution : 82\n",
      "Generation :  6\n",
      "Fitness of the best solution : 0.4719198705163843\n",
      "Variance of the best solution : 0.006215030527853907\n",
      "Length of the best solution : 112\n",
      "Generation :  11\n",
      "Fitness of the best solution : 0.5073523665466557\n",
      "Variance of the best solution : 0.0035494590286468163\n",
      "Length of the best solution : 177\n",
      "Generation :  16\n",
      "Fitness of the best solution : 0.5407860180731014\n",
      "Variance of the best solution : 0.002015372909937331\n",
      "Length of the best solution : 184\n",
      "Generation :  21\n",
      "Fitness of the best solution : 0.5681198843083533\n",
      "Variance of the best solution : 0.0012301973842677467\n",
      "Length of the best solution : 197\n",
      "Generation :  26\n",
      "Fitness of the best solution : 0.5956050612604291\n",
      "Variance of the best solution : 0.0007254112150832677\n",
      "Length of the best solution : 198\n",
      "Generation :  31\n",
      "Fitness of the best solution : 0.6218602947940336\n",
      "Variance of the best solution : 0.00042353565011011033\n",
      "Length of the best solution : 193\n",
      "Generation :  36\n",
      "Fitness of the best solution : 0.6479391872620455\n",
      "Variance of the best solution : 0.00023932053696850761\n",
      "Length of the best solution : 197\n",
      "Generation :  41\n",
      "Fitness of the best solution : 0.6645144272381578\n",
      "Variance of the best solution : 0.00016310878189105047\n",
      "Length of the best solution : 191\n",
      "Generation :  46\n",
      "Fitness of the best solution : 0.6814608011389405\n",
      "Variance of the best solution : 0.000108299758866116\n",
      "Length of the best solution : 195\n",
      "Generation :  51\n",
      "Fitness of the best solution : 0.6961356143718976\n",
      "Variance of the best solution : 7.486125350937708e-05\n",
      "Length of the best solution : 189\n",
      "Generation :  56\n",
      "Fitness of the best solution : 0.7136699744412602\n",
      "Variance of the best solution : 4.732732273156157e-05\n",
      "Length of the best solution : 189\n",
      "Generation :  61\n",
      "Fitness of the best solution : 0.7293618056871408\n",
      "Variance of the best solution : 3.096052076199326e-05\n",
      "Length of the best solution : 198\n",
      "Generation :  66\n",
      "Fitness of the best solution : 0.7385569697615585\n",
      "Variance of the best solution : 2.403639399163541e-05\n",
      "Length of the best solution : 198\n",
      "Generation :  71\n",
      "Fitness of the best solution : 0.7481176676256862\n",
      "Variance of the best solution : 1.8444370451498102e-05\n",
      "Length of the best solution : 190\n",
      "Generation :  76\n",
      "Fitness of the best solution : 0.7607111322424311\n",
      "Variance of the best solution : 1.3035506305971352e-05\n",
      "Length of the best solution : 188\n",
      "Generation :  81\n",
      "Fitness of the best solution : 0.7744383744301304\n",
      "Variance of the best solution : 9.030762665432129e-06\n",
      "Length of the best solution : 194\n",
      "Generation :  86\n",
      "Fitness of the best solution : 0.7995469358914196\n",
      "Variance of the best solution : 4.997565344134109e-06\n",
      "Length of the best solution : 187\n",
      "Generation :  91\n",
      "Fitness of the best solution : 0.9056110990268884\n",
      "Variance of the best solution : 2.459940893031562e-06\n",
      "Length of the best solution : 193\n",
      "Generation :  96\n",
      "Fitness of the best solution : 1.0\n",
      "Variance of the best solution : 2.401454473369555e-06\n",
      "Length of the best solution : 199\n",
      "Generation :  101\n",
      "Fitness of the best solution : 1.0\n",
      "Variance of the best solution : 1.8841521380417517e-06\n",
      "Length of the best solution : 198\n",
      "Generation :  106\n",
      "Fitness of the best solution : 1.0\n",
      "Variance of the best solution : 1.4147799032189907e-06\n",
      "Length of the best solution : 186\n",
      "Generation :  111\n",
      "Fitness of the best solution : 1.0\n",
      "Variance of the best solution : 2.2217823639892245e-06\n",
      "Length of the best solution : 197\n",
      "Generation :  116\n",
      "Fitness of the best solution : 1.0\n",
      "Variance of the best solution : 1.8152480805208494e-06\n",
      "Length of the best solution : 197\n",
      "Generation :  121\n",
      "Fitness of the best solution : 1.0\n",
      "Variance of the best solution : 2.0990220706789964e-06\n",
      "Length of the best solution : 190\n",
      "Generation :  126\n",
      "Fitness of the best solution : 1.0\n",
      "Variance of the best solution : 2.4476390085470017e-06\n",
      "Length of the best solution : 193\n",
      "Generation :  1\n",
      "Fitness of the best solution : 0.4476377528698804\n",
      "Variance of the best solution : 0.008936545881824806\n",
      "Length of the best solution : 22\n",
      "Generation :  6\n",
      "Fitness of the best solution : 0.47796528245006453\n",
      "Variance of the best solution : 0.0056634774976722585\n",
      "Length of the best solution : 103\n",
      "Generation :  11\n",
      "Fitness of the best solution : 0.5113198886102113\n",
      "Variance of the best solution : 0.0033255479045710503\n",
      "Length of the best solution : 169\n",
      "Generation :  16\n",
      "Fitness of the best solution : 0.5345495310491635\n",
      "Variance of the best solution : 0.002246526838393038\n",
      "Length of the best solution : 167\n",
      "Generation :  21\n",
      "Fitness of the best solution : 0.5635389481840596\n",
      "Variance of the best solution : 0.0013391064589772825\n",
      "Length of the best solution : 160\n",
      "Generation :  26\n",
      "Fitness of the best solution : 0.5876951040791872\n",
      "Variance of the best solution : 0.000847462394247915\n",
      "Length of the best solution : 167\n",
      "Generation :  31\n",
      "Fitness of the best solution : 0.6029475787266624\n",
      "Variance of the best solution : 0.0006262338109300286\n",
      "Length of the best solution : 169\n",
      "Generation :  36\n",
      "Fitness of the best solution : 0.6273286687399601\n",
      "Variance of the best solution : 0.0003769357245926204\n",
      "Length of the best solution : 167\n",
      "Generation :  41\n",
      "Fitness of the best solution : 0.6508390124170174\n",
      "Variance of the best solution : 0.000224062156471586\n",
      "Length of the best solution : 165\n",
      "Generation :  46\n",
      "Fitness of the best solution : 0.6684526205654502\n",
      "Variance of the best solution : 0.00014854020374871095\n",
      "Length of the best solution : 169\n",
      "Generation :  51\n",
      "Fitness of the best solution : 0.6830013483687282\n",
      "Variance of the best solution : 0.00010424843469947608\n",
      "Length of the best solution : 166\n",
      "Generation :  56\n",
      "Fitness of the best solution : 0.6922319829025806\n",
      "Variance of the best solution : 8.269736991445071e-05\n",
      "Length of the best solution : 163\n",
      "Generation :  61\n",
      "Fitness of the best solution : 0.7009797010044838\n",
      "Variance of the best solution : 6.607489734250606e-05\n",
      "Length of the best solution : 159\n",
      "Generation :  66\n",
      "Fitness of the best solution : 0.7085916349230907\n",
      "Variance of the best solution : 5.41492497964549e-05\n",
      "Length of the best solution : 160\n",
      "Generation :  71\n",
      "Fitness of the best solution : 0.7160707111659175\n",
      "Variance of the best solution : 4.438662456672276e-05\n",
      "Length of the best solution : 169\n",
      "Generation :  76\n",
      "Fitness of the best solution : 0.725752911846639\n",
      "Variance of the best solution : 3.416826653999409e-05\n",
      "Length of the best solution : 163\n",
      "Generation :  81\n",
      "Fitness of the best solution : 0.7352773077098602\n",
      "Variance of the best solution : 2.631465234080216e-05\n",
      "Length of the best solution : 168\n",
      "Generation :  86\n",
      "Fitness of the best solution : 0.7396464706695292\n",
      "Variance of the best solution : 2.332294201095143e-05\n",
      "Length of the best solution : 168\n",
      "Generation :  91\n",
      "Fitness of the best solution : 0.7439210064302475\n",
      "Variance of the best solution : 2.0719267633281638e-05\n",
      "Length of the best solution : 169\n",
      "Generation :  96\n",
      "Fitness of the best solution : 0.7484243275569467\n",
      "Variance of the best solution : 1.828832877947293e-05\n",
      "Length of the best solution : 169\n",
      "Generation :  101\n",
      "Fitness of the best solution : 0.7522803093007278\n",
      "Variance of the best solution : 1.6437008388504686e-05\n",
      "Length of the best solution : 169\n",
      "Generation :  106\n",
      "Fitness of the best solution : 0.7537172173398172\n",
      "Variance of the best solution : 1.5797291402407448e-05\n",
      "Length of the best solution : 169\n",
      "Generation :  111\n",
      "Fitness of the best solution : 0.7551700405395687\n",
      "Variance of the best solution : 1.5176693851782189e-05\n",
      "Length of the best solution : 169\n",
      "Generation :  116\n",
      "Fitness of the best solution : 0.7560488901323041\n",
      "Variance of the best solution : 1.4813679352230141e-05\n",
      "Length of the best solution : 169\n",
      "Generation :  121\n",
      "Fitness of the best solution : 0.7563795946857973\n",
      "Variance of the best solution : 1.4679447676093788e-05\n",
      "Length of the best solution : 169\n",
      "Generation :  126\n",
      "Fitness of the best solution : 0.7563795946857973\n",
      "Variance of the best solution : 1.4679447676093788e-05\n",
      "Length of the best solution : 169\n",
      "Generation :  1\n",
      "Fitness of the best solution : 0.4478922565524418\n",
      "Variance of the best solution : 0.008903309800154137\n",
      "Length of the best solution : 31\n",
      "Generation :  6\n",
      "Fitness of the best solution : 0.4766911591164201\n",
      "Variance of the best solution : 0.005775998427760789\n",
      "Length of the best solution : 113\n",
      "Generation :  11\n",
      "Fitness of the best solution : 0.5082161834951376\n",
      "Variance of the best solution : 0.0034996122228176155\n",
      "Length of the best solution : 161\n",
      "Generation :  16\n",
      "Fitness of the best solution : 0.543315040803518\n",
      "Variance of the best solution : 0.0019277610236586081\n",
      "Length of the best solution : 165\n",
      "Generation :  21\n",
      "Fitness of the best solution : 0.5708540282110349\n",
      "Variance of the best solution : 0.0011689712851299812\n",
      "Length of the best solution : 162\n",
      "Generation :  26\n",
      "Fitness of the best solution : 0.5948801160830883\n",
      "Variance of the best solution : 0.0007359140412464403\n",
      "Length of the best solution : 169\n",
      "Generation :  31\n",
      "Fitness of the best solution : 0.6234814005226402\n",
      "Variance of the best solution : 0.00040921889597724464\n",
      "Length of the best solution : 169\n",
      "Generation :  36\n",
      "Fitness of the best solution : 0.6348070853667553\n",
      "Variance of the best solution : 0.00032054449838233055\n",
      "Length of the best solution : 169\n",
      "Generation :  41\n",
      "Fitness of the best solution : 0.6529696891737828\n",
      "Variance of the best solution : 0.0002134064770443019\n",
      "Length of the best solution : 157\n",
      "Generation :  46\n",
      "Fitness of the best solution : 0.6657033023332959\n",
      "Variance of the best solution : 0.00015858236910802905\n",
      "Length of the best solution : 167\n",
      "Generation :  51\n",
      "Fitness of the best solution : 0.676702943221116\n",
      "Variance of the best solution : 0.00012171757232662968\n",
      "Length of the best solution : 160\n",
      "Generation :  56\n",
      "Fitness of the best solution : 0.6866754662775767\n",
      "Variance of the best solution : 9.512971603376191e-05\n",
      "Length of the best solution : 165\n",
      "Generation :  61\n",
      "Fitness of the best solution : 0.6988397165334975\n",
      "Variance of the best solution : 6.983399016243582e-05\n",
      "Length of the best solution : 163\n",
      "Generation :  66\n",
      "Fitness of the best solution : 0.7083473378395462\n",
      "Variance of the best solution : 5.449915064141096e-05\n",
      "Length of the best solution : 168\n",
      "Generation :  71\n",
      "Fitness of the best solution : 0.7152173691322111\n",
      "Variance of the best solution : 4.541195003289171e-05\n",
      "Length of the best solution : 169\n",
      "Generation :  76\n",
      "Fitness of the best solution : 0.7227978720427412\n",
      "Variance of the best solution : 3.7025894364085536e-05\n",
      "Length of the best solution : 161\n",
      "Generation :  81\n",
      "Fitness of the best solution : 0.729303275562048\n",
      "Variance of the best solution : 3.101018624793639e-05\n",
      "Length of the best solution : 169\n",
      "Generation :  86\n",
      "Fitness of the best solution : 0.7333235329355718\n",
      "Variance of the best solution : 2.77696861143588e-05\n",
      "Length of the best solution : 169\n",
      "Generation :  91\n",
      "Fitness of the best solution : 0.7379834606226232\n",
      "Variance of the best solution : 2.4420463898484527e-05\n",
      "Length of the best solution : 167\n",
      "Generation :  96\n",
      "Fitness of the best solution : 0.7411655146907967\n",
      "Variance of the best solution : 2.236271055920774e-05\n",
      "Length of the best solution : 166\n",
      "Generation :  101\n",
      "Fitness of the best solution : 0.7444869266856072\n",
      "Variance of the best solution : 2.0396854571669074e-05\n",
      "Length of the best solution : 169\n",
      "Generation :  106\n",
      "Fitness of the best solution : 0.7476811524269853\n",
      "Variance of the best solution : 1.866881047854804e-05\n",
      "Length of the best solution : 168\n",
      "Generation :  111\n",
      "Fitness of the best solution : 0.7489164244192174\n",
      "Variance of the best solution : 1.804071514508614e-05\n",
      "Length of the best solution : 169\n",
      "Generation :  116\n",
      "Fitness of the best solution : 0.7497023043284106\n",
      "Variance of the best solution : 1.7652304946362032e-05\n",
      "Length of the best solution : 169\n",
      "Generation :  121\n",
      "Fitness of the best solution : 0.7500511914674362\n",
      "Variance of the best solution : 1.7482607263601868e-05\n",
      "Length of the best solution : 169\n",
      "Generation :  126\n",
      "Fitness of the best solution : 0.7501121647688327\n",
      "Variance of the best solution : 1.745312100608576e-05\n",
      "Length of the best solution : 169\n",
      "Generation :  1\n",
      "Fitness of the best solution : 0.44722407674672104\n",
      "Variance of the best solution : 0.008990801898483627\n",
      "Length of the best solution : 36\n",
      "Generation :  6\n",
      "Fitness of the best solution : 0.47771461158311856\n",
      "Variance of the best solution : 0.00568546125028724\n",
      "Length of the best solution : 92\n",
      "Generation :  11\n",
      "Fitness of the best solution : 0.5052899431870398\n",
      "Variance of the best solution : 0.0036710022141548918\n",
      "Length of the best solution : 130\n",
      "Generation :  16\n",
      "Fitness of the best solution : 0.5312282047615752\n",
      "Variance of the best solution : 0.002378881157345369\n",
      "Length of the best solution : 139\n",
      "Generation :  21\n",
      "Fitness of the best solution : 0.5541785670636246\n",
      "Variance of the best solution : 0.0015882850888409787\n",
      "Length of the best solution : 139\n",
      "Generation :  26\n",
      "Fitness of the best solution : 0.5740389896239013\n",
      "Variance of the best solution : 0.001101038121733716\n",
      "Length of the best solution : 139\n",
      "Generation :  31\n",
      "Fitness of the best solution : 0.5900919429701965\n",
      "Variance of the best solution : 0.0008087044666995484\n",
      "Length of the best solution : 136\n",
      "Generation :  36\n",
      "Fitness of the best solution : 0.6110870669769137\n",
      "Variance of the best solution : 0.000530410762474151\n",
      "Length of the best solution : 139\n",
      "Generation :  41\n",
      "Fitness of the best solution : 0.6324916694198359\n",
      "Variance of the best solution : 0.00033714943453971776\n",
      "Length of the best solution : 135\n",
      "Generation :  46\n",
      "Fitness of the best solution : 0.6481932144992755\n",
      "Variance of the best solution : 0.0002379480823497042\n",
      "Length of the best solution : 134\n",
      "Generation :  51\n",
      "Fitness of the best solution : 0.6599555942084823\n",
      "Variance of the best solution : 0.00018154913207840063\n",
      "Length of the best solution : 131\n",
      "Generation :  56\n",
      "Fitness of the best solution : 0.6661699831331016\n",
      "Variance of the best solution : 0.00015683634164652616\n",
      "Length of the best solution : 139\n",
      "Generation :  61\n",
      "Fitness of the best solution : 0.6754149921917842\n",
      "Variance of the best solution : 0.00012559658066641971\n",
      "Length of the best solution : 135\n",
      "Generation :  66\n",
      "Fitness of the best solution : 0.6814871036462234\n",
      "Variance of the best solution : 0.00010822942119031836\n",
      "Length of the best solution : 138\n",
      "Generation :  71\n",
      "Fitness of the best solution : 0.6870251607352782\n",
      "Variance of the best solution : 9.430033178924587e-05\n",
      "Length of the best solution : 139\n",
      "Generation :  76\n",
      "Fitness of the best solution : 0.691128499238175\n",
      "Variance of the best solution : 8.504293071474548e-05\n",
      "Length of the best solution : 138\n",
      "Generation :  81\n",
      "Fitness of the best solution : 0.6947078832403225\n",
      "Variance of the best solution : 7.764576951461947e-05\n",
      "Length of the best solution : 139\n",
      "Generation :  86\n",
      "Fitness of the best solution : 0.6958371732376905\n",
      "Variance of the best solution : 7.543571918416285e-05\n",
      "Length of the best solution : 139\n",
      "Generation :  91\n",
      "Fitness of the best solution : 0.6959879886242593\n",
      "Variance of the best solution : 7.514491956649204e-05\n",
      "Length of the best solution : 139\n",
      "Generation :  96\n",
      "Fitness of the best solution : 0.696060436346677\n",
      "Variance of the best solution : 7.500558832187317e-05\n",
      "Length of the best solution : 139\n",
      "Generation :  101\n",
      "Fitness of the best solution : 0.6961242015187771\n",
      "Variance of the best solution : 7.488314892099035e-05\n",
      "Length of the best solution : 139\n",
      "Generation :  106\n",
      "Fitness of the best solution : 0.6961242015187771\n",
      "Variance of the best solution : 7.488314892099035e-05\n",
      "Length of the best solution : 139\n",
      "Generation :  111\n",
      "Fitness of the best solution : 0.6961242015187771\n",
      "Variance of the best solution : 7.488314892099035e-05\n",
      "Length of the best solution : 139\n",
      "Generation :  116\n",
      "Fitness of the best solution : 0.6961242015187771\n",
      "Variance of the best solution : 7.488314892099035e-05\n",
      "Length of the best solution : 139\n",
      "Generation :  121\n",
      "Fitness of the best solution : 0.6961242015187771\n",
      "Variance of the best solution : 7.488314892099035e-05\n",
      "Length of the best solution : 139\n",
      "Generation :  126\n",
      "Fitness of the best solution : 0.6961242015187771\n",
      "Variance of the best solution : 7.488314892099035e-05\n",
      "Length of the best solution : 139\n",
      "Generation :  1\n",
      "Fitness of the best solution : 0.44840766632538753\n",
      "Variance of the best solution : 0.008836335022517433\n",
      "Length of the best solution : 13\n",
      "Generation :  6\n",
      "Fitness of the best solution : 0.47429812672650806\n",
      "Variance of the best solution : 0.005992658086198202\n",
      "Length of the best solution : 93\n",
      "Generation :  11\n",
      "Fitness of the best solution : 0.5065856366120739\n",
      "Variance of the best solution : 0.0035942247769514724\n",
      "Length of the best solution : 112\n",
      "Generation :  16\n",
      "Fitness of the best solution : 0.5294457297171811\n",
      "Variance of the best solution : 0.002452696998601866\n",
      "Length of the best solution : 137\n",
      "Generation :  21\n",
      "Fitness of the best solution : 0.5496722081409056\n",
      "Variance of the best solution : 0.001722131274861103\n",
      "Length of the best solution : 124\n",
      "Generation :  26\n",
      "Fitness of the best solution : 0.5704518396479409\n",
      "Variance of the best solution : 0.0011778061383794967\n",
      "Length of the best solution : 135\n",
      "Generation :  31\n",
      "Fitness of the best solution : 0.593251560439235\n",
      "Variance of the best solution : 0.0007599969894636207\n",
      "Length of the best solution : 137\n",
      "Generation :  36\n",
      "Fitness of the best solution : 0.613719078296344\n",
      "Variance of the best solution : 0.0005023184523902246\n",
      "Length of the best solution : 129\n",
      "Generation :  41\n",
      "Fitness of the best solution : 0.6292237443670374\n",
      "Variance of the best solution : 0.00036187586479460984\n",
      "Length of the best solution : 133\n",
      "Generation :  46\n",
      "Fitness of the best solution : 0.6492678743257981\n",
      "Variance of the best solution : 0.00023221868455468712\n",
      "Length of the best solution : 137\n",
      "Generation :  51\n",
      "Fitness of the best solution : 0.6609814584659285\n",
      "Variance of the best solution : 0.00017724539616263175\n",
      "Length of the best solution : 139\n",
      "Generation :  56\n",
      "Fitness of the best solution : 0.6719458581744673\n",
      "Variance of the best solution : 0.0001365997821789649\n",
      "Length of the best solution : 139\n",
      "Generation :  61\n",
      "Fitness of the best solution : 0.6786247478480061\n",
      "Variance of the best solution : 0.00011612852515989772\n",
      "Length of the best solution : 137\n",
      "Generation :  66\n",
      "Fitness of the best solution : 0.6831528123962701\n",
      "Variance of the best solution : 0.00010385754838650932\n",
      "Length of the best solution : 139\n",
      "Generation :  71\n",
      "Fitness of the best solution : 0.6862459263501823\n",
      "Variance of the best solution : 9.615744454499007e-05\n",
      "Length of the best solution : 137\n",
      "Generation :  76\n",
      "Fitness of the best solution : 0.6884566059889006\n",
      "Variance of the best solution : 9.097269003346251e-05\n",
      "Length of the best solution : 138\n",
      "Generation :  81\n",
      "Fitness of the best solution : 0.690758376920917\n",
      "Variance of the best solution : 8.58429967802941e-05\n",
      "Length of the best solution : 139\n",
      "Generation :  86\n",
      "Fitness of the best solution : 0.6919207867059907\n",
      "Variance of the best solution : 8.335286475680166e-05\n",
      "Length of the best solution : 139\n",
      "Generation :  91\n",
      "Fitness of the best solution : 0.6923864350064783\n",
      "Variance of the best solution : 8.23737671852698e-05\n",
      "Length of the best solution : 139\n",
      "Generation :  96\n",
      "Fitness of the best solution : 0.6924035916827245\n",
      "Variance of the best solution : 8.233789173868995e-05\n",
      "Length of the best solution : 139\n",
      "Generation :  101\n",
      "Fitness of the best solution : 0.6924080314924335\n",
      "Variance of the best solution : 8.232861017766206e-05\n",
      "Length of the best solution : 139\n",
      "Generation :  106\n",
      "Fitness of the best solution : 0.6924089251321226\n",
      "Variance of the best solution : 8.232674211013623e-05\n",
      "Length of the best solution : 139\n",
      "Generation :  111\n",
      "Fitness of the best solution : 0.6924089251321226\n",
      "Variance of the best solution : 8.232674211013623e-05\n",
      "Length of the best solution : 139\n",
      "Generation :  116\n",
      "Fitness of the best solution : 0.6924089251321226\n",
      "Variance of the best solution : 8.232674211013623e-05\n",
      "Length of the best solution : 139\n",
      "Generation :  121\n",
      "Fitness of the best solution : 0.6924089251321226\n",
      "Variance of the best solution : 8.232674211013623e-05\n",
      "Length of the best solution : 139\n",
      "Generation :  126\n",
      "Fitness of the best solution : 0.6924089251321226\n",
      "Variance of the best solution : 8.232674211013623e-05\n",
      "Length of the best solution : 139\n"
     ]
    }
   ],
   "source": [
    "solutions = []\n",
    "for x in [200,170,140]:\n",
    "    max_removed = x\n",
    "    for i in range():\n",
    "        solutions.append(run_GA())\n",
    "    \n"
   ]
  },
  {
   "cell_type": "code",
   "execution_count": 65,
   "metadata": {},
   "outputs": [],
   "source": [
    "sols = np.array([ga_instance.best_solutions[0] for ga_instance in solutions])"
   ]
  },
  {
   "cell_type": "code",
   "execution_count": 73,
   "metadata": {},
   "outputs": [
    {
     "name": "stdout",
     "output_type": "stream",
     "text": [
      "0.009293125180756647\n"
     ]
    },
    {
     "data": {
      "image/png": "[encoded data removed]",
      "text/plain": [
       "<Figure size 640x480 with 1 Axes>"
      ]
     },
     "metadata": {},
     "output_type": "display_data"
    }
   ],
   "source": [
    "print_curve(sols[2])"
   ]
  },
  {
   "cell_type": "code",
   "execution_count": null,
   "metadata": {},
   "outputs": [],
   "source": [
    "max_removed = 250\n",
    "ga_instance = run_GA()"
   ]
  },
  {
   "cell_type": "code",
   "execution_count": 286,
   "metadata": {},
   "outputs": [],
   "source": [
    "soll = ga_instance"
   ]
  },
  {
   "cell_type": "code",
   "execution_count": 756,
   "metadata": {},
   "outputs": [],
   "source": [
    "prev_ga = ga_instance"
   ]
  },
  {
   "cell_type": "code",
   "execution_count": 651,
   "metadata": {},
   "outputs": [
    {
     "data": {
      "image/png": "[encoded data removed]",
      "text/plain": [
       "<Figure size 640x480 with 1 Axes>"
      ]
     },
     "metadata": {},
     "output_type": "display_data"
    },
    {
     "data": {
      "image/png": "[encoded data removed]",
      "text/plain": [
       "<Figure size 640x480 with 1 Axes>"
      ]
     },
     "execution_count": 651,
     "metadata": {},
     "output_type": "execute_result"
    }
   ],
   "source": [
    "solutions[0].plot_fitness()"
   ]
  },
  {
   "cell_type": "code",
   "execution_count": 763,
   "metadata": {},
   "outputs": [
    {
     "name": "stderr",
     "output_type": "stream",
     "text": [
      "/usr/local/lib/python3.10/site-packages/pygad/pygad.py:1074: UserWarning: Use the 'save_best_solutions' parameter with caution as it may cause memory overflow when either the number of generations or number of genes is large.\n",
      "  if not self.suppress_warnings: warnings.warn(\"Use the 'save_best_solutions' parameter with caution as it may cause memory overflow when either the number of generations or number of genes is large.\")\n"
     ]
    }
   ],
   "source": [
    "solutions = []\n",
    "for i in range(3):\n",
    "    solutions.append(run_GA())"
   ]
  },
  {
   "cell_type": "code",
   "execution_count": 764,
   "metadata": {},
   "outputs": [],
   "source": [
    "solution2s = []\n",
    "for i in range(6):\n",
    "    solution2s.append(run_GA())"
   ]
  },
  {
   "cell_type": "code",
   "execution_count": 765,
   "metadata": {},
   "outputs": [],
   "source": [
    "sols = np.array([x.best_solution()[0] for x in solutions])"
   ]
  },
  {
   "cell_type": "code",
   "execution_count": 769,
   "metadata": {},
   "outputs": [],
   "source": [
    "sols2 = np.array([x.best_solution()[0] for x in solution2s])"
   ]
  },
  {
   "cell_type": "code",
   "execution_count": 766,
   "metadata": {},
   "outputs": [
    {
     "data": {
      "text/plain": [
       "array([1.16519340e-05, 1.34716639e-05, 6.43884954e-06])"
      ]
     },
     "execution_count": 766,
     "metadata": {},
     "output_type": "execute_result"
    }
   ],
   "source": [
    "var_batch(sols)"
   ]
  },
  {
   "cell_type": "code",
   "execution_count": 772,
   "metadata": {},
   "outputs": [],
   "source": [
    "for sol in sols2:\n",
    "    sols = np.vstack([sols, sol])"
   ]
  },
  {
   "cell_type": "code",
   "execution_count": 773,
   "metadata": {},
   "outputs": [
    {
     "data": {
      "text/plain": [
       "(9, 25260)"
      ]
     },
     "execution_count": 773,
     "metadata": {},
     "output_type": "execute_result"
    }
   ],
   "source": [
    "sols.shape"
   ]
  },
  {
   "cell_type": "code",
   "execution_count": 315,
   "metadata": {},
   "outputs": [
    {
     "name": "stdout",
     "output_type": "stream",
     "text": [
      "1.4611347188422325e-05\n"
     ]
    },
    {
     "data": {
      "image/png": "[encoded data removed]",
      "text/plain": [
       "<Figure size 640x480 with 1 Axes>"
      ]
     },
     "metadata": {},
     "output_type": "display_data"
    }
   ],
   "source": [
    "print_curve(solutions[2].best_solution()[0])"
   ]
  },
  {
   "cell_type": "code",
   "execution_count": 592,
   "metadata": {},
   "outputs": [
    {
     "data": {
      "text/plain": [
       "999"
      ]
     },
     "execution_count": 592,
     "metadata": {},
     "output_type": "execute_result"
    }
   ],
   "source": [
    "len(np.where(solution == 0)[0])"
   ]
  },
  {
   "cell_type": "code",
   "execution_count": 52,
   "metadata": {},
   "outputs": [
    {
     "data": {
      "text/plain": [
       "149"
      ]
     },
     "execution_count": 52,
     "metadata": {},
     "output_type": "execute_result"
    }
   ],
   "source": [
    "len(np.where(ga_instance.best_solution()[0] == 0)[0])"
   ]
  },
  {
   "cell_type": "code",
   "execution_count": 316,
   "metadata": {},
   "outputs": [
    {
     "ename": "KeyboardInterrupt",
     "evalue": "",
     "output_type": "error",
     "traceback": [
      "\u001b[0;31m---------------------------------------------------------------------------\u001b[0m",
      "\u001b[0;31mKeyboardInterrupt\u001b[0m                         Traceback (most recent call last)",
      "Cell \u001b[0;32mIn[316], line 1\u001b[0m\n\u001b[0;32m----> 1\u001b[0m com_rem_arr \u001b[39m=\u001b[39m np\u001b[39m.\u001b[39mlogical_or(solutions[\u001b[39m3\u001b[39m]\u001b[39m.\u001b[39mbest_solution()[\u001b[39m0\u001b[39m] \u001b[39m==\u001b[39m \u001b[39m1\u001b[39m, solutions[\u001b[39m2\u001b[39;49m]\u001b[39m.\u001b[39;49mbest_solution()[\u001b[39m0\u001b[39m] \u001b[39m==\u001b[39m \u001b[39m1\u001b[39m)\n",
      "File \u001b[0;32m/usr/local/lib/python3.10/site-packages/pygad/pygad.py:1948\u001b[0m, in \u001b[0;36mGA.best_solution\u001b[0;34m(self, pop_fitness)\u001b[0m\n\u001b[1;32m   1936\u001b[0m \u001b[39m\"\"\"\u001b[39;00m\n\u001b[1;32m   1937\u001b[0m \u001b[39mReturns information about the best solution found by the genetic algorithm.\u001b[39;00m\n\u001b[1;32m   1938\u001b[0m \u001b[39mAccepts the following parameters:\u001b[39;00m\n\u001b[0;32m   (...)\u001b[0m\n\u001b[1;32m   1943\u001b[0m \u001b[39m    -best_match_idx: Index of the best solution in the current population.\u001b[39;00m\n\u001b[1;32m   1944\u001b[0m \u001b[39m\"\"\"\u001b[39;00m\n\u001b[1;32m   1946\u001b[0m \u001b[39mif\u001b[39;00m pop_fitness \u001b[39mis\u001b[39;00m \u001b[39mNone\u001b[39;00m:\n\u001b[1;32m   1947\u001b[0m     \u001b[39m# If the 'pop_fitness' parameter is not passed, then we have to call the 'cal_pop_fitness()' method to calculate the fitness of all solutions in the lastest population.\u001b[39;00m\n\u001b[0;32m-> 1948\u001b[0m     pop_fitness \u001b[39m=\u001b[39m \u001b[39mself\u001b[39;49m\u001b[39m.\u001b[39;49mcal_pop_fitness()\n\u001b[1;32m   1949\u001b[0m \u001b[39m# Verify the type of the 'pop_fitness' parameter.\u001b[39;00m\n\u001b[1;32m   1950\u001b[0m \u001b[39melif\u001b[39;00m \u001b[39mtype\u001b[39m(pop_fitness) \u001b[39min\u001b[39;00m [\u001b[39mtuple\u001b[39m, \u001b[39mlist\u001b[39m, numpy\u001b[39m.\u001b[39mndarray]:\n\u001b[1;32m   1951\u001b[0m     \u001b[39m# Verify that the length of the passed population fitness matches the length of the 'self.population' attribute.\u001b[39;00m\n",
      "File \u001b[0;32m/usr/local/lib/python3.10/site-packages/pygad/pygad.py:1608\u001b[0m, in \u001b[0;36mGA.cal_pop_fitness\u001b[0;34m(self)\u001b[0m\n\u001b[1;32m   1604\u001b[0m     pop_fitness[sol_idx] \u001b[39m=\u001b[39m fitness\n\u001b[1;32m   1605\u001b[0m \u001b[39m# If the solutions are not saved (i.e. `save_solutions=False`), check if this solution is a parent from the previous generation and its fitness value is already calculated. If so, use the fitness value instead of calling the fitness function.\u001b[39;00m\n\u001b[1;32m   1606\u001b[0m \u001b[39m# We cannot use the `numpy.where()` function directly because it does not support the `axis` parameter. This is why the `numpy.all()` function is used to match the solutions on axis=1.\u001b[39;00m\n\u001b[1;32m   1607\u001b[0m \u001b[39m# elif (self.last_generation_parents is not None) and len(numpy.where(numpy.all(self.last_generation_parents == sol, axis=1))[0] > 0):\u001b[39;00m\n\u001b[0;32m-> 1608\u001b[0m \u001b[39melif\u001b[39;00m ((\u001b[39mself\u001b[39m\u001b[39m.\u001b[39mkeep_parents \u001b[39m==\u001b[39m \u001b[39m-\u001b[39m\u001b[39m1\u001b[39m) \u001b[39mor\u001b[39;00m (\u001b[39mself\u001b[39m\u001b[39m.\u001b[39mkeep_parents \u001b[39m>\u001b[39m \u001b[39m0\u001b[39m)) \u001b[39mand\u001b[39;00m (\u001b[39mself\u001b[39m\u001b[39m.\u001b[39mlast_generation_parents \u001b[39mis\u001b[39;00m \u001b[39mnot\u001b[39;00m \u001b[39mNone\u001b[39;00m) \u001b[39mand\u001b[39;00m (\u001b[39mlen\u001b[39m(\u001b[39mself\u001b[39m\u001b[39m.\u001b[39mlast_generation_parents) \u001b[39m>\u001b[39m \u001b[39m0\u001b[39m) \u001b[39mand\u001b[39;00m (\u001b[39mlist\u001b[39m(sol) \u001b[39min\u001b[39;00m last_generation_parents_as_list):\n\u001b[1;32m   1609\u001b[0m     \u001b[39m# Index of the parent in the 'self.last_generation_parents' array. \u001b[39;00m\n\u001b[1;32m   1610\u001b[0m     \u001b[39m# This is not its index within the population. It is just its index in the 'self.last_generation_parents' array.\u001b[39;00m\n\u001b[1;32m   1611\u001b[0m     \u001b[39m# parent_idx = numpy.where(numpy.all(self.last_generation_parents == sol, axis=1))[0][0]\u001b[39;00m\n\u001b[1;32m   1612\u001b[0m     parent_idx \u001b[39m=\u001b[39m last_generation_parents_as_list\u001b[39m.\u001b[39mindex(\u001b[39mlist\u001b[39m(sol))\n\u001b[1;32m   1613\u001b[0m     \u001b[39m# Use the returned parent index to return its index in the last population.\u001b[39;00m\n",
      "\u001b[0;31mKeyboardInterrupt\u001b[0m: "
     ]
    }
   ],
   "source": [
    "com_rem_arr = np.logical_or(solutions[3].best_solution()[0] == 1, solutions[2].best_solution()[0] == 1)"
   ]
  },
  {
   "cell_type": "code",
   "execution_count": 300,
   "metadata": {},
   "outputs": [
    {
     "data": {
      "text/plain": [
       "array([ True,  True,  True, ...,  True,  True, False])"
      ]
     },
     "execution_count": 300,
     "metadata": {},
     "output_type": "execute_result"
    }
   ],
   "source": [
    "com_rem_arr"
   ]
  },
  {
   "cell_type": "code",
   "execution_count": null,
   "metadata": {},
   "outputs": [
    {
     "name": "stdout",
     "output_type": "stream",
     "text": [
      "0.00033871457584160297\n"
     ]
    },
    {
     "data": {
      "image/png": "[encoded data removed]",
      "text/plain": [
       "<Figure size 640x480 with 1 Axes>"
      ]
     },
     "metadata": {},
     "output_type": "display_data"
    }
   ],
   "source": [
    "print_curve(com_rem_arr)"
   ]
  },
  {
   "cell_type": "code",
   "execution_count": 224,
   "metadata": {},
   "outputs": [],
   "source": [
    "stats = solutions[0][1]"
   ]
  },
  {
   "cell_type": "code",
   "execution_count": 219,
   "metadata": {},
   "outputs": [
    {
     "name": "stderr",
     "output_type": "stream",
     "text": [
      "/var/folders/pw/r8s9dk9x4z56sfjh5qm3t8gw0002n8/T/ipykernel_89005/1415263720.py:1: VisibleDeprecationWarning: Creating an ndarray from ragged nested sequences (which is a list-or-tuple of lists-or-tuples-or ndarrays with different lengths or shapes) is deprecated. If you meant to do this, you must specify 'dtype=object' when creating the ndarray.\n",
      "  solutions = np.array(solutions)\n"
     ]
    }
   ],
   "source": [
    "solutions = np.array(solutions)"
   ]
  },
  {
   "cell_type": "code",
   "execution_count": 761,
   "metadata": {},
   "outputs": [
    {
     "name": "stdout",
     "output_type": "stream",
     "text": [
      "0.00041707006058392965\n"
     ]
    },
    {
     "data": {
      "image/png": "[encoded data removed]",
      "text/plain": [
       "<Figure size 640x480 with 1 Axes>"
      ]
     },
     "metadata": {},
     "output_type": "display_data"
    }
   ],
   "source": [
    "common_removed = arr.iloc[high_var.index.values[np.logical_and(ga_instance.best_solution()[0] == 0, prev_ga.best_solution()[0] == 0)],:]\n",
    "com_rem_arr = np.logical_or(ga_instance.best_solution()[0] == 1, prev_ga.best_solution()[0] == 1)\n",
    "print_curve(com_rem_arr)"
   ]
  },
  {
   "cell_type": "code",
   "execution_count": 788,
   "metadata": {},
   "outputs": [
    {
     "name": "stdout",
     "output_type": "stream",
     "text": [
      "138\n",
      "1.639108609841805e-05\n"
     ]
    },
    {
     "data": {
      "image/png": "[encoded data removed]",
      "text/plain": [
       "<Figure size 640x480 with 1 Axes>"
      ]
     },
     "metadata": {},
     "output_type": "display_data"
    }
   ],
   "source": [
    "mul_targ = np.where((sols.shape[0] -  sols.sum(axis=0)) > 4)[0]\n",
    "print(len(mul_targ))\n",
    "mul_targ = get_sol_from_indices(mul_targ)\n",
    "removed_mul_targ = get_removed_genes_from_solution(mul_targ)\n",
    "print_curve(mul_targ)"
   ]
  },
  {
   "cell_type": "code",
   "execution_count": 678,
   "metadata": {},
   "outputs": [
    {
     "data": {
      "text/plain": [
       "array([504, 504])"
      ]
     },
     "execution_count": 678,
     "metadata": {},
     "output_type": "execute_result"
    }
   ],
   "source": [
    "num_of_removed = sols.shape[1] -  sols.sum(axis=1)\n",
    "num_of_removed"
   ]
  },
  {
   "cell_type": "code",
   "execution_count": 548,
   "metadata": {},
   "outputs": [
    {
     "data": {
      "text/plain": [
       "array([590, 593])"
      ]
     },
     "execution_count": 548,
     "metadata": {},
     "output_type": "execute_result"
    }
   ],
   "source": [
    "np.array(sols).shape[1] - np.array(sols).sum(axis=1)"
   ]
  },
  {
   "cell_type": "code",
   "execution_count": null,
   "metadata": {},
   "outputs": [],
   "source": [
    "sols = []"
   ]
  },
  {
   "cell_type": "code",
   "execution_count": 774,
   "metadata": {},
   "outputs": [
    {
     "data": {
      "text/plain": [
       "38"
      ]
     },
     "execution_count": 774,
     "metadata": {},
     "output_type": "execute_result"
    }
   ],
   "source": [
    "common = set.intersection(*map(set,(np.where(solution == 0)[0] for solution in sols)))\n",
    "len(common)"
   ]
  },
  {
   "cell_type": "code",
   "execution_count": 775,
   "metadata": {},
   "outputs": [
    {
     "name": "stdout",
     "output_type": "stream",
     "text": [
      "0.0024884024202718896\n"
     ]
    },
    {
     "data": {
      "image/png": "[encoded data removed]",
      "text/plain": [
       "<Figure size 640x480 with 1 Axes>"
      ]
     },
     "metadata": {},
     "output_type": "display_data"
    }
   ],
   "source": [
    "print_curve(get_sol_from_indices(list(common)))"
   ]
  },
  {
   "cell_type": "code",
   "execution_count": 181,
   "metadata": {},
   "outputs": [
    {
     "name": "stdout",
     "output_type": "stream",
     "text": [
      "5.1082210666394055e-05\n",
      "377\n",
      "0.014924782264449724\n"
     ]
    },
    {
     "data": {
      "image/png": "[encoded data removed]",
      "text/plain": [
       "<Figure size 640x480 with 1 Axes>"
      ]
     },
     "metadata": {},
     "output_type": "display_data"
    }
   ],
   "source": [
    "print_curve(solutions[2],label=\"best solution\")\n",
    "print(len(np.where(solution == 0)[0]))\n",
    "print(len(np.where(solution == 0)[0])/len(solution))\n"
   ]
  },
  {
   "cell_type": "code",
   "execution_count": 57,
   "metadata": {},
   "outputs": [
    {
     "name": "stdout",
     "output_type": "stream",
     "text": [
      "161\n"
     ]
    }
   ],
   "source": [
    "# in how many generations new best fitness emerged\n",
    "print(len(set(ga_instance.best_solutions_fitness)))"
   ]
  },
  {
   "cell_type": "code",
   "execution_count": 138,
   "metadata": {},
   "outputs": [
    {
     "data": {
      "text/plain": [
       "181"
      ]
     },
     "execution_count": 138,
     "metadata": {},
     "output_type": "execute_result"
    }
   ],
   "source": [
    "len(ga_instance.best_solutions_fitness)"
   ]
  },
  {
   "cell_type": "code",
   "execution_count": 272,
   "metadata": {},
   "outputs": [
    {
     "ename": "AxisError",
     "evalue": "axis 1 is out of bounds for array of dimension 1",
     "output_type": "error",
     "traceback": [
      "\u001b[0;31m---------------------------------------------------------------------------\u001b[0m",
      "\u001b[0;31mAxisError\u001b[0m                                 Traceback (most recent call last)",
      "Cell \u001b[0;32mIn[272], line 1\u001b[0m\n\u001b[0;32m----> 1\u001b[0m lens \u001b[39m=\u001b[39m \u001b[39mlen\u001b[39m(solution) \u001b[39m-\u001b[39m np\u001b[39m.\u001b[39;49msum(np\u001b[39m.\u001b[39;49marray(ga_instance\u001b[39m.\u001b[39;49msolutions),axis \u001b[39m=\u001b[39;49m \u001b[39m1\u001b[39;49m)\n\u001b[1;32m      2\u001b[0m fit \u001b[39m=\u001b[39mfitness_batch(\u001b[39mNone\u001b[39;00m,np\u001b[39m.\u001b[39marray(ga_instance\u001b[39m.\u001b[39msolutions),\u001b[39mNone\u001b[39;00m)\n\u001b[1;32m      3\u001b[0m fit_ind \u001b[39m=\u001b[39m np\u001b[39m.\u001b[39margsort(fitness_batch(\u001b[39mNone\u001b[39;00m,np\u001b[39m.\u001b[39marray(ga_instance\u001b[39m.\u001b[39msolutions),\u001b[39mNone\u001b[39;00m))\n",
      "File \u001b[0;32m<__array_function__ internals>:180\u001b[0m, in \u001b[0;36msum\u001b[0;34m(*args, **kwargs)\u001b[0m\n",
      "File \u001b[0;32m/usr/local/lib/python3.10/site-packages/numpy/core/fromnumeric.py:2298\u001b[0m, in \u001b[0;36msum\u001b[0;34m(a, axis, dtype, out, keepdims, initial, where)\u001b[0m\n\u001b[1;32m   2295\u001b[0m         \u001b[39mreturn\u001b[39;00m out\n\u001b[1;32m   2296\u001b[0m     \u001b[39mreturn\u001b[39;00m res\n\u001b[0;32m-> 2298\u001b[0m \u001b[39mreturn\u001b[39;00m _wrapreduction(a, np\u001b[39m.\u001b[39;49madd, \u001b[39m'\u001b[39;49m\u001b[39msum\u001b[39;49m\u001b[39m'\u001b[39;49m, axis, dtype, out, keepdims\u001b[39m=\u001b[39;49mkeepdims,\n\u001b[1;32m   2299\u001b[0m                       initial\u001b[39m=\u001b[39;49minitial, where\u001b[39m=\u001b[39;49mwhere)\n",
      "File \u001b[0;32m/usr/local/lib/python3.10/site-packages/numpy/core/fromnumeric.py:86\u001b[0m, in \u001b[0;36m_wrapreduction\u001b[0;34m(obj, ufunc, method, axis, dtype, out, **kwargs)\u001b[0m\n\u001b[1;32m     83\u001b[0m         \u001b[39melse\u001b[39;00m:\n\u001b[1;32m     84\u001b[0m             \u001b[39mreturn\u001b[39;00m reduction(axis\u001b[39m=\u001b[39maxis, out\u001b[39m=\u001b[39mout, \u001b[39m*\u001b[39m\u001b[39m*\u001b[39mpasskwargs)\n\u001b[0;32m---> 86\u001b[0m \u001b[39mreturn\u001b[39;00m ufunc\u001b[39m.\u001b[39;49mreduce(obj, axis, dtype, out, \u001b[39m*\u001b[39;49m\u001b[39m*\u001b[39;49mpasskwargs)\n",
      "\u001b[0;31mAxisError\u001b[0m: axis 1 is out of bounds for array of dimension 1"
     ]
    }
   ],
   "source": [
    "\n",
    "lens = len(solution) - np.sum(np.array(ga_instance.solutions),axis = 1)\n",
    "fit =fitness_batch(None,np.array(ga_instance.solutions),None)\n",
    "fit_ind = np.argsort(fitness_batch(None,np.array(ga_instance.solutions),None))\n",
    "plt.scatter(lens,fit, s=0.1)"
   ]
  },
  {
   "cell_type": "code",
   "execution_count": 191,
   "metadata": {},
   "outputs": [
    {
     "data": {
      "image/png": "[encoded data removed]",
      "text/plain": [
       "<Figure size 640x480 with 1 Axes>"
      ]
     },
     "metadata": {},
     "output_type": "display_data"
    },
    {
     "data": {
      "image/png": "[encoded data removed]",
      "text/plain": [
       "<Figure size 640x480 with 1 Axes>"
      ]
     },
     "execution_count": 191,
     "metadata": {},
     "output_type": "execute_result"
    }
   ],
   "source": [
    "ga_instance.plot_new_solution_rate()"
   ]
  },
  {
   "cell_type": "code",
   "execution_count": 532,
   "metadata": {},
   "outputs": [
    {
     "name": "stdout",
     "output_type": "stream",
     "text": [
      "0.009837646583158657\n"
     ]
    },
    {
     "data": {
      "image/png": "[encoded data removed]",
      "text/plain": [
       "<Figure size 640x480 with 1 Axes>"
      ]
     },
     "metadata": {},
     "output_type": "display_data"
    }
   ],
   "source": [
    "print_curve(np.ones(high_var.shape[0]), label=\"all genes\")"
   ]
  },
  {
   "cell_type": "code",
   "execution_count": 140,
   "metadata": {},
   "outputs": [],
   "source": [
    "comm = get_removed_genes_from_solution(ones)"
   ]
  },
  {
   "cell_type": "code",
   "execution_count": 42,
   "metadata": {},
   "outputs": [
    {
     "name": "stderr",
     "output_type": "stream",
     "text": [
      "/var/folders/pw/r8s9dk9x4z56sfjh5qm3t8gw0002n8/T/ipykernel_89005/2635158219.py:2: FutureWarning: Dropping of nuisance columns in DataFrame reductions (with 'numeric_only=None') is deprecated; in a future version this will raise TypeError.  Select only valid columns before calling the reduction.\n",
      "  variances = removed_genes.iloc[:, 2:].var(axis=1)\n"
     ]
    },
    {
     "data": {
      "text/html": [
       "<div>\n",
       "<style scoped>\n",
       "    .dataframe tbody tr th:only-of-type {\n",
       "        vertical-align: middle;\n",
       "    }\n",
       "\n",
       "    .dataframe tbody tr th {\n",
       "        vertical-align: top;\n",
       "    }\n",
       "\n",
       "    .dataframe thead th {\n",
       "        text-align: right;\n",
       "    }\n",
       "</style>\n",
       "<table border=\"1\" class=\"dataframe\">\n",
       "  <thead>\n",
       "    <tr style=\"text-align: right;\">\n",
       "      <th></th>\n",
       "      <th>Unnamed: 0</th>\n",
       "      <th>Phylostratum</th>\n",
       "      <th>GeneID</th>\n",
       "      <th>Zygote</th>\n",
       "      <th>Quadrant</th>\n",
       "      <th>Globular</th>\n",
       "      <th>Heart</th>\n",
       "      <th>Torpedo</th>\n",
       "      <th>Bent</th>\n",
       "      <th>Mature</th>\n",
       "    </tr>\n",
       "  </thead>\n",
       "  <tbody>\n",
       "    <tr>\n",
       "      <th>8097</th>\n",
       "      <td>8098</td>\n",
       "      <td>1</td>\n",
       "      <td>at5g40020.1</td>\n",
       "      <td>685.724723</td>\n",
       "      <td>680.611796</td>\n",
       "      <td>671.045301</td>\n",
       "      <td>681.262277</td>\n",
       "      <td>705.428063</td>\n",
       "      <td>658.706627</td>\n",
       "      <td>685.322192</td>\n",
       "    </tr>\n",
       "    <tr>\n",
       "      <th>4800</th>\n",
       "      <td>4801</td>\n",
       "      <td>1</td>\n",
       "      <td>at3g26780.1</td>\n",
       "      <td>661.913185</td>\n",
       "      <td>698.076319</td>\n",
       "      <td>682.836045</td>\n",
       "      <td>668.451217</td>\n",
       "      <td>672.081580</td>\n",
       "      <td>654.825536</td>\n",
       "      <td>680.219241</td>\n",
       "    </tr>\n",
       "    <tr>\n",
       "      <th>6634</th>\n",
       "      <td>6635</td>\n",
       "      <td>1</td>\n",
       "      <td>at4g32170.1</td>\n",
       "      <td>741.239790</td>\n",
       "      <td>755.183286</td>\n",
       "      <td>726.176003</td>\n",
       "      <td>765.633587</td>\n",
       "      <td>773.604256</td>\n",
       "      <td>746.520416</td>\n",
       "      <td>757.320410</td>\n",
       "    </tr>\n",
       "    <tr>\n",
       "      <th>25056</th>\n",
       "      <td>25057</td>\n",
       "      <td>12</td>\n",
       "      <td>at5g38240.1</td>\n",
       "      <td>621.815292</td>\n",
       "      <td>609.621129</td>\n",
       "      <td>598.470127</td>\n",
       "      <td>637.846169</td>\n",
       "      <td>617.250087</td>\n",
       "      <td>608.082312</td>\n",
       "      <td>596.378559</td>\n",
       "    </tr>\n",
       "    <tr>\n",
       "      <th>8903</th>\n",
       "      <td>8904</td>\n",
       "      <td>1</td>\n",
       "      <td>at5g61910.4</td>\n",
       "      <td>748.406405</td>\n",
       "      <td>742.488793</td>\n",
       "      <td>734.041345</td>\n",
       "      <td>737.110101</td>\n",
       "      <td>738.559992</td>\n",
       "      <td>724.769498</td>\n",
       "      <td>697.309005</td>\n",
       "    </tr>\n",
       "    <tr>\n",
       "      <th>...</th>\n",
       "      <td>...</td>\n",
       "      <td>...</td>\n",
       "      <td>...</td>\n",
       "      <td>...</td>\n",
       "      <td>...</td>\n",
       "      <td>...</td>\n",
       "      <td>...</td>\n",
       "      <td>...</td>\n",
       "      <td>...</td>\n",
       "      <td>...</td>\n",
       "    </tr>\n",
       "    <tr>\n",
       "      <th>21826</th>\n",
       "      <td>21827</td>\n",
       "      <td>8</td>\n",
       "      <td>at2g42560.1</td>\n",
       "      <td>2457.993370</td>\n",
       "      <td>835.481543</td>\n",
       "      <td>834.124473</td>\n",
       "      <td>760.883619</td>\n",
       "      <td>726.684578</td>\n",
       "      <td>3752.426116</td>\n",
       "      <td>68490.545990</td>\n",
       "    </tr>\n",
       "    <tr>\n",
       "      <th>23539</th>\n",
       "      <td>23540</td>\n",
       "      <td>12</td>\n",
       "      <td>at1g07500.1</td>\n",
       "      <td>2236.167648</td>\n",
       "      <td>872.144043</td>\n",
       "      <td>816.071814</td>\n",
       "      <td>852.034298</td>\n",
       "      <td>824.409176</td>\n",
       "      <td>1904.961405</td>\n",
       "      <td>67841.771130</td>\n",
       "    </tr>\n",
       "    <tr>\n",
       "      <th>21446</th>\n",
       "      <td>21447</td>\n",
       "      <td>7</td>\n",
       "      <td>at1g07985.1</td>\n",
       "      <td>2962.440546</td>\n",
       "      <td>904.682744</td>\n",
       "      <td>899.162118</td>\n",
       "      <td>814.911574</td>\n",
       "      <td>784.399822</td>\n",
       "      <td>2371.147397</td>\n",
       "      <td>71635.640930</td>\n",
       "    </tr>\n",
       "    <tr>\n",
       "      <th>20234</th>\n",
       "      <td>20235</td>\n",
       "      <td>6</td>\n",
       "      <td>at1g75830.1</td>\n",
       "      <td>4458.236715</td>\n",
       "      <td>998.800310</td>\n",
       "      <td>986.139617</td>\n",
       "      <td>933.795325</td>\n",
       "      <td>814.189089</td>\n",
       "      <td>1335.810446</td>\n",
       "      <td>72600.065370</td>\n",
       "    </tr>\n",
       "    <tr>\n",
       "      <th>21272</th>\n",
       "      <td>21273</td>\n",
       "      <td>6</td>\n",
       "      <td>at5g44420.1</td>\n",
       "      <td>3267.491127</td>\n",
       "      <td>913.585877</td>\n",
       "      <td>903.671462</td>\n",
       "      <td>886.332087</td>\n",
       "      <td>827.076564</td>\n",
       "      <td>5364.292796</td>\n",
       "      <td>81496.148630</td>\n",
       "    </tr>\n",
       "  </tbody>\n",
       "</table>\n",
       "<p>1048 rows × 10 columns</p>\n",
       "</div>"
      ],
      "text/plain": [
       "       Unnamed: 0  Phylostratum       GeneID       Zygote    Quadrant  \\\n",
       "8097         8098             1  at5g40020.1   685.724723  680.611796   \n",
       "4800         4801             1  at3g26780.1   661.913185  698.076319   \n",
       "6634         6635             1  at4g32170.1   741.239790  755.183286   \n",
       "25056       25057            12  at5g38240.1   621.815292  609.621129   \n",
       "8903         8904             1  at5g61910.4   748.406405  742.488793   \n",
       "...           ...           ...          ...          ...         ...   \n",
       "21826       21827             8  at2g42560.1  2457.993370  835.481543   \n",
       "23539       23540            12  at1g07500.1  2236.167648  872.144043   \n",
       "21446       21447             7  at1g07985.1  2962.440546  904.682744   \n",
       "20234       20235             6  at1g75830.1  4458.236715  998.800310   \n",
       "21272       21273             6  at5g44420.1  3267.491127  913.585877   \n",
       "\n",
       "         Globular       Heart     Torpedo         Bent        Mature  \n",
       "8097   671.045301  681.262277  705.428063   658.706627    685.322192  \n",
       "4800   682.836045  668.451217  672.081580   654.825536    680.219241  \n",
       "6634   726.176003  765.633587  773.604256   746.520416    757.320410  \n",
       "25056  598.470127  637.846169  617.250087   608.082312    596.378559  \n",
       "8903   734.041345  737.110101  738.559992   724.769498    697.309005  \n",
       "...           ...         ...         ...          ...           ...  \n",
       "21826  834.124473  760.883619  726.684578  3752.426116  68490.545990  \n",
       "23539  816.071814  852.034298  824.409176  1904.961405  67841.771130  \n",
       "21446  899.162118  814.911574  784.399822  2371.147397  71635.640930  \n",
       "20234  986.139617  933.795325  814.189089  1335.810446  72600.065370  \n",
       "21272  903.671462  886.332087  827.076564  5364.292796  81496.148630  \n",
       "\n",
       "[1048 rows x 10 columns]"
      ]
     },
     "metadata": {},
     "output_type": "display_data"
    }
   ],
   "source": [
    "removed_genes =  arr.iloc[high_var.index.values[np.where(solution == 0)[0]],:]\n",
    "\n",
    "display(removed_genes)"
   ]
  },
  {
   "cell_type": "code",
   "execution_count": 43,
   "metadata": {},
   "outputs": [
    {
     "data": {
      "text/plain": [
       "<AxesSubplot: xlabel='Phylostratum', ylabel='Count'>"
      ]
     },
     "execution_count": 43,
     "metadata": {},
     "output_type": "execute_result"
    },
    {
     "data": {
      "image/png": "[encoded data removed]",
      "text/plain": [
       "<Figure size 640x480 with 1 Axes>"
      ]
     },
     "metadata": {},
     "output_type": "display_data"
    }
   ],
   "source": [
    "sns.histplot(data=arr,x=\"Phylostratum\",discrete=True)"
   ]
  },
  {
   "cell_type": "code",
   "execution_count": 44,
   "metadata": {},
   "outputs": [
    {
     "data": {
      "text/plain": [
       "<BarContainer object of 12 artists>"
      ]
     },
     "execution_count": 44,
     "metadata": {},
     "output_type": "execute_result"
    },
    {
     "data": {
      "image/png": "[encoded data removed]",
      "text/plain": [
       "<Figure size 640x480 with 1 Axes>"
      ]
     },
     "metadata": {},
     "output_type": "display_data"
    }
   ],
   "source": [
    "dff = np.array(list(Counter(removed_genes[\"Phylostratum\"])))/np.array(list(Counter(arr[\"Phylostratum\"])))\n",
    "plt.bar(range(len(dff)),dff)"
   ]
  },
  {
   "cell_type": "code",
   "execution_count": 187,
   "metadata": {},
   "outputs": [
    {
     "name": "stderr",
     "output_type": "stream",
     "text": [
      "/var/folders/pw/r8s9dk9x4z56sfjh5qm3t8gw0002n8/T/ipykernel_89005/1673284101.py:2: FutureWarning: Dropping of nuisance columns in DataFrame reductions (with 'numeric_only=None') is deprecated; in a future version this will raise TypeError.  Select only valid columns before calling the reduction.\n",
      "  variances = removed_genes.iloc[:, 2:].var(axis=1)\n",
      "/var/folders/pw/r8s9dk9x4z56sfjh5qm3t8gw0002n8/T/ipykernel_89005/1673284101.py:3: FutureWarning: Dropping of nuisance columns in DataFrame reductions (with 'numeric_only=None') is deprecated; in a future version this will raise TypeError.  Select only valid columns before calling the reduction.\n",
      "  variances_df = pd.DataFrame(data={'removed': variances, 'removed_cv': variances/removed_genes.iloc[:, 2:].mean(axis=1),'all': ex_data.var(axis=1),'all_cv': ex_data.var(axis=1)/ex_data.mean(axis=1)})\n"
     ]
    },
    {
     "data": {
      "image/png": "[encoded data removed]",
      "text/plain": [
       "<Figure size 640x480 with 1 Axes>"
      ]
     },
     "metadata": {},
     "output_type": "display_data"
    }
   ],
   "source": [
    "get_ex_hist(get_removed_genes_from_solution(solutions[1]))"
   ]
  },
  {
   "cell_type": "code",
   "execution_count": 278,
   "metadata": {},
   "outputs": [
    {
     "data": {
      "text/plain": [
       "<matplotlib.legend.Legend at 0xe4ac50520>"
      ]
     },
     "execution_count": 278,
     "metadata": {},
     "output_type": "execute_result"
    },
    {
     "data": {
      "image/png": "[encoded data removed]",
      "text/plain": [
       "<Figure size 640x480 with 1 Axes>"
      ]
     },
     "metadata": {},
     "output_type": "display_data"
    }
   ],
   "source": [
    "sns.histplot(data=variances_df,x=\"removed_cv\",stat=\"density\",binrange=(0,50),fill=False,common_norm=False,bins=30,label=\"removed\")\n",
    "sns.histplot(data=variances_df,x=\"all_cv\",stat=\"density\",binrange=(0,50),fill=False,common_norm=False,bins=30,label=\"all\")\n",
    "plt.legend()\n"
   ]
  },
  {
   "cell_type": "code",
   "execution_count": 682,
   "metadata": {},
   "outputs": [
    {
     "data": {
      "text/plain": [
       "505.2"
      ]
     },
     "execution_count": 682,
     "metadata": {},
     "output_type": "execute_result"
    }
   ],
   "source": [
    "25260/50"
   ]
  },
  {
   "cell_type": "code",
   "execution_count": 681,
   "metadata": {},
   "outputs": [
    {
     "data": {
      "text/plain": [
       "(25260, 10)"
      ]
     },
     "execution_count": 681,
     "metadata": {},
     "output_type": "execute_result"
    }
   ],
   "source": [
    "arr.shape"
   ]
  },
  {
   "cell_type": "code",
   "execution_count": 701,
   "metadata": {},
   "outputs": [],
   "source": [
    "inds = [[np.array(random.sample(range(arr.shape[0]),50*x)) for _ in range(10)] for x in range(1,arr.shape[0]//50)]"
   ]
  },
  {
   "cell_type": "code",
   "execution_count": 697,
   "metadata": {},
   "outputs": [
    {
     "data": {
      "text/plain": [
       "[[7794,\n",
       "  8164,\n",
       "  15445,\n",
       "  20368,\n",
       "  16366,\n",
       "  13865,\n",
       "  13476,\n",
       "  8008,\n",
       "  1082,\n",
       "  5326,\n",
       "  9337,\n",
       "  21548,\n",
       "  22718,\n",
       "  11841,\n",
       "  13403,\n",
       "  14413,\n",
       "  3743,\n",
       "  1739,\n",
       "  17890,\n",
       "  18945,\n",
       "  101,\n",
       "  21781,\n",
       "  3344,\n",
       "  13502,\n",
       "  24112,\n",
       "  13522,\n",
       "  23343,\n",
       "  16455,\n",
       "  13953,\n",
       "  16966,\n",
       "  13391,\n",
       "  7383,\n",
       "  19656,\n",
       "  7169,\n",
       "  7738,\n",
       "  7511,\n",
       "  12147,\n",
       "  12186,\n",
       "  23521,\n",
       "  17792,\n",
       "  1919,\n",
       "  12966,\n",
       "  14245,\n",
       "  5529,\n",
       "  20198,\n",
       "  4894,\n",
       "  9004,\n",
       "  15584,\n",
       "  19907,\n",
       "  11229],\n",
       " [19875,\n",
       "  16832,\n",
       "  11724,\n",
       "  24115,\n",
       "  19640,\n",
       "  19182,\n",
       "  8843,\n",
       "  758,\n",
       "  15879,\n",
       "  14040,\n",
       "  23252,\n",
       "  1002,\n",
       "  1391,\n",
       "  4388,\n",
       "  637,\n",
       "  9860,\n",
       "  3331,\n",
       "  19476,\n",
       "  15965,\n",
       "  4481,\n",
       "  14061,\n",
       "  10432,\n",
       "  15924,\n",
       "  6813,\n",
       "  1502,\n",
       "  16810,\n",
       "  4685,\n",
       "  15229,\n",
       "  13764,\n",
       "  17789,\n",
       "  57,\n",
       "  11723,\n",
       "  17145,\n",
       "  867,\n",
       "  14550,\n",
       "  11738,\n",
       "  22953,\n",
       "  8408,\n",
       "  7049,\n",
       "  18643,\n",
       "  13754,\n",
       "  21668,\n",
       "  17671,\n",
       "  22336,\n",
       "  4048,\n",
       "  16017,\n",
       "  22774,\n",
       "  10083,\n",
       "  20485,\n",
       "  20112],\n",
       " [1330,\n",
       "  14783,\n",
       "  9543,\n",
       "  13027,\n",
       "  12551,\n",
       "  24131,\n",
       "  4589,\n",
       "  9314,\n",
       "  3397,\n",
       "  11710,\n",
       "  21217,\n",
       "  16226,\n",
       "  14007,\n",
       "  809,\n",
       "  19831,\n",
       "  4682,\n",
       "  12408,\n",
       "  18809,\n",
       "  25102,\n",
       "  15261,\n",
       "  14694,\n",
       "  7644,\n",
       "  24718,\n",
       "  21526,\n",
       "  9793,\n",
       "  13305,\n",
       "  15224,\n",
       "  14459,\n",
       "  11758,\n",
       "  1123,\n",
       "  22268,\n",
       "  9205,\n",
       "  7135,\n",
       "  5753,\n",
       "  810,\n",
       "  10415,\n",
       "  19544,\n",
       "  13987,\n",
       "  3181,\n",
       "  17482,\n",
       "  22171,\n",
       "  15437,\n",
       "  19824,\n",
       "  16905,\n",
       "  17413,\n",
       "  18876,\n",
       "  365,\n",
       "  4199,\n",
       "  21066,\n",
       "  18792],\n",
       " [18065,\n",
       "  17295,\n",
       "  22655,\n",
       "  9287,\n",
       "  20267,\n",
       "  12581,\n",
       "  7240,\n",
       "  8590,\n",
       "  22308,\n",
       "  18455,\n",
       "  9126,\n",
       "  20264,\n",
       "  18384,\n",
       "  14925,\n",
       "  18399,\n",
       "  17168,\n",
       "  11046,\n",
       "  23957,\n",
       "  6983,\n",
       "  17570,\n",
       "  3837,\n",
       "  22626,\n",
       "  16699,\n",
       "  506,\n",
       "  20513,\n",
       "  19027,\n",
       "  15793,\n",
       "  9089,\n",
       "  17193,\n",
       "  15699,\n",
       "  18396,\n",
       "  13007,\n",
       "  14138,\n",
       "  2656,\n",
       "  24776,\n",
       "  15259,\n",
       "  21140,\n",
       "  12359,\n",
       "  8067,\n",
       "  22218,\n",
       "  2899,\n",
       "  554,\n",
       "  10524,\n",
       "  12255,\n",
       "  8097,\n",
       "  18676,\n",
       "  7144,\n",
       "  7479,\n",
       "  8924,\n",
       "  22867],\n",
       " [13592,\n",
       "  19881,\n",
       "  3832,\n",
       "  19182,\n",
       "  4199,\n",
       "  12273,\n",
       "  13881,\n",
       "  11841,\n",
       "  12391,\n",
       "  12438,\n",
       "  23437,\n",
       "  22678,\n",
       "  9653,\n",
       "  25126,\n",
       "  9498,\n",
       "  9305,\n",
       "  11597,\n",
       "  15630,\n",
       "  16008,\n",
       "  8028,\n",
       "  4013,\n",
       "  19458,\n",
       "  12282,\n",
       "  24984,\n",
       "  1726,\n",
       "  16346,\n",
       "  2113,\n",
       "  15425,\n",
       "  16601,\n",
       "  4732,\n",
       "  23857,\n",
       "  22625,\n",
       "  6034,\n",
       "  9525,\n",
       "  25089,\n",
       "  3215,\n",
       "  19203,\n",
       "  15508,\n",
       "  23540,\n",
       "  2975,\n",
       "  1354,\n",
       "  9374,\n",
       "  15592,\n",
       "  2424,\n",
       "  9549,\n",
       "  19628,\n",
       "  4845,\n",
       "  113,\n",
       "  8255,\n",
       "  15962],\n",
       " [5324,\n",
       "  9261,\n",
       "  23819,\n",
       "  950,\n",
       "  18437,\n",
       "  23025,\n",
       "  15500,\n",
       "  20102,\n",
       "  23242,\n",
       "  24766,\n",
       "  9807,\n",
       "  20607,\n",
       "  462,\n",
       "  22677,\n",
       "  7131,\n",
       "  20624,\n",
       "  2235,\n",
       "  16263,\n",
       "  14337,\n",
       "  14944,\n",
       "  19674,\n",
       "  3688,\n",
       "  16012,\n",
       "  350,\n",
       "  6852,\n",
       "  14799,\n",
       "  20835,\n",
       "  5387,\n",
       "  7872,\n",
       "  5208,\n",
       "  12033,\n",
       "  2418,\n",
       "  10455,\n",
       "  13427,\n",
       "  13632,\n",
       "  167,\n",
       "  20269,\n",
       "  4547,\n",
       "  10536,\n",
       "  7855,\n",
       "  23709,\n",
       "  2640,\n",
       "  20036,\n",
       "  14254,\n",
       "  7294,\n",
       "  1647,\n",
       "  1262,\n",
       "  7739,\n",
       "  19501,\n",
       "  11800],\n",
       " [20202,\n",
       "  4965,\n",
       "  17216,\n",
       "  14784,\n",
       "  15862,\n",
       "  23133,\n",
       "  19666,\n",
       "  20032,\n",
       "  11473,\n",
       "  15780,\n",
       "  6565,\n",
       "  5943,\n",
       "  16248,\n",
       "  20239,\n",
       "  108,\n",
       "  5912,\n",
       "  6059,\n",
       "  16723,\n",
       "  2622,\n",
       "  19858,\n",
       "  7274,\n",
       "  8771,\n",
       "  23802,\n",
       "  22900,\n",
       "  12332,\n",
       "  16543,\n",
       "  11815,\n",
       "  17009,\n",
       "  23890,\n",
       "  6687,\n",
       "  10652,\n",
       "  4201,\n",
       "  19546,\n",
       "  8548,\n",
       "  13666,\n",
       "  19841,\n",
       "  5851,\n",
       "  22230,\n",
       "  3830,\n",
       "  2019,\n",
       "  8249,\n",
       "  2024,\n",
       "  6116,\n",
       "  3143,\n",
       "  14757,\n",
       "  17749,\n",
       "  4128,\n",
       "  18471,\n",
       "  23300,\n",
       "  9431],\n",
       " [9726,\n",
       "  18385,\n",
       "  11994,\n",
       "  4077,\n",
       "  1310,\n",
       "  10293,\n",
       "  19470,\n",
       "  10265,\n",
       "  19870,\n",
       "  11207,\n",
       "  18924,\n",
       "  123,\n",
       "  22332,\n",
       "  13314,\n",
       "  15338,\n",
       "  13635,\n",
       "  12838,\n",
       "  11285,\n",
       "  15534,\n",
       "  21638,\n",
       "  12306,\n",
       "  13306,\n",
       "  3762,\n",
       "  7946,\n",
       "  15396,\n",
       "  19641,\n",
       "  16647,\n",
       "  15807,\n",
       "  24347,\n",
       "  7405,\n",
       "  15568,\n",
       "  18094,\n",
       "  8749,\n",
       "  23225,\n",
       "  1686,\n",
       "  22923,\n",
       "  10058,\n",
       "  15397,\n",
       "  3802,\n",
       "  12017,\n",
       "  9611,\n",
       "  13516,\n",
       "  14117,\n",
       "  14163,\n",
       "  21084,\n",
       "  9269,\n",
       "  6051,\n",
       "  9040,\n",
       "  2392,\n",
       "  5379],\n",
       " [22171,\n",
       "  7975,\n",
       "  20079,\n",
       "  18078,\n",
       "  1026,\n",
       "  13566,\n",
       "  5721,\n",
       "  18143,\n",
       "  8542,\n",
       "  18111,\n",
       "  21031,\n",
       "  12908,\n",
       "  24401,\n",
       "  17668,\n",
       "  15516,\n",
       "  13731,\n",
       "  24673,\n",
       "  11715,\n",
       "  19311,\n",
       "  4037,\n",
       "  20228,\n",
       "  6033,\n",
       "  21184,\n",
       "  10925,\n",
       "  21367,\n",
       "  16547,\n",
       "  9418,\n",
       "  10861,\n",
       "  24005,\n",
       "  17354,\n",
       "  16443,\n",
       "  8397,\n",
       "  10522,\n",
       "  3169,\n",
       "  4419,\n",
       "  24671,\n",
       "  20136,\n",
       "  19165,\n",
       "  4478,\n",
       "  14992,\n",
       "  23301,\n",
       "  24194,\n",
       "  19764,\n",
       "  18679,\n",
       "  614,\n",
       "  1417,\n",
       "  5175,\n",
       "  18374,\n",
       "  2905,\n",
       "  5817],\n",
       " [14297,\n",
       "  4522,\n",
       "  24066,\n",
       "  1842,\n",
       "  12700,\n",
       "  10082,\n",
       "  3286,\n",
       "  16470,\n",
       "  14682,\n",
       "  24420,\n",
       "  23012,\n",
       "  17188,\n",
       "  13552,\n",
       "  22301,\n",
       "  16961,\n",
       "  2268,\n",
       "  5295,\n",
       "  9109,\n",
       "  17677,\n",
       "  9203,\n",
       "  9294,\n",
       "  3611,\n",
       "  17804,\n",
       "  17949,\n",
       "  22814,\n",
       "  5370,\n",
       "  5105,\n",
       "  21571,\n",
       "  6701,\n",
       "  2326,\n",
       "  5632,\n",
       "  3362,\n",
       "  7476,\n",
       "  22982,\n",
       "  17109,\n",
       "  25203,\n",
       "  5307,\n",
       "  18848,\n",
       "  3512,\n",
       "  21270,\n",
       "  9201,\n",
       "  1062,\n",
       "  7085,\n",
       "  18804,\n",
       "  23290,\n",
       "  8219,\n",
       "  7438,\n",
       "  17299,\n",
       "  4699,\n",
       "  10557]]"
      ]
     },
     "execution_count": 697,
     "metadata": {},
     "output_type": "execute_result"
    }
   ],
   "source": [
    "inds[0]"
   ]
  },
  {
   "cell_type": "code",
   "execution_count": 709,
   "metadata": {},
   "outputs": [],
   "source": [
    "variances = []\n",
    "for indd in inds:\n",
    "    for ind in indd:\n",
    "        get_sol_from_indices(ind)\n",
    "    sols = list(map(get_sol_from_indices,indd))\n",
    "    variances.append(np.mean(var_batch(np.array(sols))))\n"
   ]
  },
  {
   "cell_type": "code",
   "execution_count": 714,
   "metadata": {},
   "outputs": [
    {
     "data": {
      "text/plain": [
       "<matplotlib.collections.PathCollection at 0x127c67670>"
      ]
     },
     "execution_count": 714,
     "metadata": {},
     "output_type": "execute_result"
    },
    {
     "data": {
      "image/png": "[encoded data removed]",
      "text/plain": [
       "<Figure size 640x480 with 1 Axes>"
      ]
     },
     "metadata": {},
     "output_type": "display_data"
    }
   ],
   "source": [
    "plt.scatter(range(len(variances)),variances,s=0.1)"
   ]
  }
 ],
 "metadata": {
  "kernelspec": {
   "display_name": "Python 3",
   "language": "python",
   "name": "python3"
  },
  "language_info": {
   "codemirror_mode": {
    "name": "ipython",
    "version": 3
   },
   "file_extension": ".py",
   "mimetype": "text/x-python",
   "name": "python",
   "nbconvert_exporter": "python",
   "pygments_lexer": "ipython3",
   "version": "3.10.9"
  },
  "orig_nbformat": 4
 },
 "nbformat": 4,
 "nbformat_minor": 2
}
