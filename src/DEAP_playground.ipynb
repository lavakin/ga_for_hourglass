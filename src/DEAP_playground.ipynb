{
 "cells": [
  {
   "cell_type": "code",
   "execution_count": 1,
   "metadata": {},
   "outputs": [],
   "source": [
    "from deap import algorithms, base, creator, tools\n",
    "import random\n",
    "from functools import partial\n",
    "import numpy as np\n",
    "import scipy\n",
    "import pandas as pd\n",
    "import array"
   ]
  },
  {
   "cell_type": "code",
   "execution_count": 2,
   "metadata": {},
   "outputs": [],
   "source": [
    "class Expression_data:\n",
    "\n",
    "    def quantilerank(xs):\n",
    "        ranks = scipy.stats.rankdata(xs, method='average')\n",
    "        quantile_ranks = [scipy.stats.percentileofscore(ranks, rank, kind='weak') for rank in ranks]\n",
    "        return np.array(quantile_ranks)\n",
    "\n",
    "    def __init__(self,expression_data) -> None:\n",
    "        expression_data[\"Phylostratum\"] = Expression_data.quantilerank(expression_data[\"Phylostratum\"])\n",
    "        self.full = expression_data\n",
    "        exps = expression_data.iloc[:, 3:]\n",
    "        #exps = exps.apply(lambda row: Expression_data.quantilerank(row))\n",
    "        exps = np.log(exps).apply(lambda x: (x - x.mean()) / x.std(), axis=1)\n",
    "        self.age_weighted = exps.mul(expression_data[\"Phylostratum\"], axis=0).to_numpy()\n",
    "        self.expressions_n = exps.to_numpy()\n",
    "        self.expressions = exps"
   ]
  },
  {
   "cell_type": "code",
   "execution_count": 4,
   "metadata": {},
   "outputs": [],
   "source": [
    "arr = pd.read_csv(\"../data/phylo.csv\",\n",
    "                 delimiter=\",\")\n",
    "expression_data = Expression_data(arr)\n",
    "gamma = scipy.stats.gamma(0.4206577838478015, scale=3.4008766040577783*15,loc=0.011999243192420739)\n"
   ]
  },
  {
   "cell_type": "code",
   "execution_count": 35,
   "metadata": {},
   "outputs": [],
   "source": [
    "ind_length = expression_data.full.shape[0]\n",
    "population_size = 400\n",
    "num_generations = 400\n",
    "num_parents = round(population_size * 0.15)\n",
    "init_num_removed = 100 "
   ]
  },
  {
   "cell_type": "code",
   "execution_count": 36,
   "metadata": {},
   "outputs": [],
   "source": [
    "def create_individual():\n",
    "    a =  ind_length//(init_num_removed*3)\n",
    "    b = ind_length//init_num_removed\n",
    "    individual = array.array(\"b\",random.choices([0,1], weights=(1, random.randint(a,b)), k=ind_length))\n",
    "    return creator.Individual(individual)\n",
    "\n",
    "def get_p_value(solution):\n",
    "    sol = np.array(solution)\n",
    "    up = sol.dot(expression_data.age_weighted)\n",
    "    down = sol.dot(expression_data.expressions_n)\n",
    "    avgs = np.divide(up,down)\n",
    "    varr = np.var(avgs)\n",
    "    return 1 - np.array(gamma.cdf(varr))\n",
    "    \n",
    "def evaluate_individual(individual):\n",
    "    num_not_removed = np.sum(individual)\n",
    "    len_removed = ind_length - num_not_removed\n",
    "    p_value = get_p_value(individual)\n",
    "\n",
    "    # Return the fitness values as a tuple\n",
    "    return len_removed, p_value"
   ]
  },
  {
   "cell_type": "code",
   "execution_count": 37,
   "metadata": {},
   "outputs": [
    {
     "name": "stderr",
     "output_type": "stream",
     "text": [
      "/Users/nkalabova/anaconda3/lib/python3.10/site-packages/deap/creator.py:138: RuntimeWarning: A class named 'Fitness' has already been created and it will be overwritten. Consider deleting previous creation of that class or rename it.\n",
      "  warnings.warn(\"A class named '{0}' has already been created and it \"\n",
      "/Users/nkalabova/anaconda3/lib/python3.10/site-packages/deap/creator.py:138: RuntimeWarning: A class named 'Individual' has already been created and it will be overwritten. Consider deleting previous creation of that class or rename it.\n",
      "  warnings.warn(\"A class named '{0}' has already been created and it \"\n"
     ]
    }
   ],
   "source": [
    "creator.create(\"Fitness\", base.Fitness, weights=(-1.0, 1.0))\n",
    "creator.create(\"Individual\", array.array,typecode='b', fitness=creator.Fitness)\n",
    "\n",
    "toolbox = base.Toolbox()\n",
    "toolbox.register(\"individual\", create_individual)\n",
    "#toolbox.register(\"population\", tools.initRepeat, list, toolbox.individual)\n",
    "population = [toolbox.individual() for _ in range(population_size)]\n"
   ]
  },
  {
   "cell_type": "code",
   "execution_count": 38,
   "metadata": {},
   "outputs": [],
   "source": [
    "toolbox.register(\"evaluate\", evaluate_individual)\n",
    "toolbox.register(\"mate\", tools.cxUniform,indpb=0.05)\n",
    "toolbox.register(\"mutate\", tools.mutFlipBit, indpb=0.003)\n",
    "toolbox.register(\"select\", tools.selSPEA2)"
   ]
  },
  {
   "cell_type": "code",
   "execution_count": 44,
   "metadata": {},
   "outputs": [],
   "source": [
    "def custom_stats(individuals):\n",
    "    generation = 0  # Variable to keep track of the generation\n",
    "    def func(population):\n",
    "        nonlocal generation\n",
    "        if generation % 10 == 0:\n",
    "            # Calculate and print the desired statistics for each objective\n",
    "            objectives = len(population[0].fitness.values)\n",
    "            for obj in range(objectives):\n",
    "                values = [ind.fitness.values[obj] for ind in population]\n",
    "                \n",
    "                print(f\"Generation {generation}: Objective {obj+1} - Max Value = {values[0]}\")\n",
    "        generation += 1\n",
    "    return func"
   ]
  },
  {
   "cell_type": "code",
   "execution_count": 45,
   "metadata": {},
   "outputs": [],
   "source": [
    "stats = tools.Statistics()\n",
    "\"\"\"\n",
    "stats.register(\"Num removed\", lambda x: np.max([ind.fitness.values[0] for ind in x]))\n",
    "stats.register(\"P-value\", lambda x: np.max([ind.fitness.values[1] for ind in x]))\n",
    "\"\"\"\n",
    "stats.register(\"custom\", custom_stats(population))"
   ]
  },
  {
   "cell_type": "code",
   "execution_count": 46,
   "metadata": {},
   "outputs": [
    {
     "name": "stdout",
     "output_type": "stream",
     "text": [
      "gen\tnevals\tcustom                                                 \n",
      "0  \t0     \t<function custom_stats.<locals>.func at 0x7f8844960040>\n",
      "1  \t316   \t<function custom_stats.<locals>.func at 0x7f88449b77f0>\n",
      "2  \t297   \t<function custom_stats.<locals>.func at 0x7f88449b7d00>\n"
     ]
    },
    {
     "ename": "KeyboardInterrupt",
     "evalue": "",
     "output_type": "error",
     "traceback": [
      "\u001b[0;31m---------------------------------------------------------------------------\u001b[0m",
      "\u001b[0;31mKeyboardInterrupt\u001b[0m                         Traceback (most recent call last)",
      "Cell \u001b[0;32mIn[46], line 1\u001b[0m\n\u001b[0;32m----> 1\u001b[0m population, logbook \u001b[39m=\u001b[39m algorithms\u001b[39m.\u001b[39;49meaMuPlusLambda(population,toolbox, mu\u001b[39m=\u001b[39;49mnum_parents, lambda_ \u001b[39m=\u001b[39;49m population_size,cxpb\u001b[39m=\u001b[39;49m\u001b[39m0.25\u001b[39;49m, mutpb\u001b[39m=\u001b[39;49m\u001b[39m0.5\u001b[39;49m, ngen\u001b[39m=\u001b[39;49mnum_generations,stats\u001b[39m=\u001b[39;49mstats, verbose\u001b[39m=\u001b[39;49m\u001b[39mTrue\u001b[39;49;00m)\n",
      "File \u001b[0;32m~/anaconda3/lib/python3.10/site-packages/deap/algorithms.py:321\u001b[0m, in \u001b[0;36meaMuPlusLambda\u001b[0;34m(population, toolbox, mu, lambda_, cxpb, mutpb, ngen, stats, halloffame, verbose)\u001b[0m\n\u001b[1;32m    319\u001b[0m invalid_ind \u001b[39m=\u001b[39m [ind \u001b[39mfor\u001b[39;00m ind \u001b[39min\u001b[39;00m offspring \u001b[39mif\u001b[39;00m \u001b[39mnot\u001b[39;00m ind\u001b[39m.\u001b[39mfitness\u001b[39m.\u001b[39mvalid]\n\u001b[1;32m    320\u001b[0m fitnesses \u001b[39m=\u001b[39m toolbox\u001b[39m.\u001b[39mmap(toolbox\u001b[39m.\u001b[39mevaluate, invalid_ind)\n\u001b[0;32m--> 321\u001b[0m \u001b[39mfor\u001b[39;00m ind, fit \u001b[39min\u001b[39;00m \u001b[39mzip\u001b[39m(invalid_ind, fitnesses):\n\u001b[1;32m    322\u001b[0m     ind\u001b[39m.\u001b[39mfitness\u001b[39m.\u001b[39mvalues \u001b[39m=\u001b[39m fit\n\u001b[1;32m    324\u001b[0m \u001b[39m# Update the hall of fame with the generated individuals\u001b[39;00m\n",
      "Cell \u001b[0;32mIn[36], line 18\u001b[0m, in \u001b[0;36mevaluate_individual\u001b[0;34m(individual)\u001b[0m\n\u001b[1;32m     16\u001b[0m num_not_removed \u001b[39m=\u001b[39m np\u001b[39m.\u001b[39msum(individual)\n\u001b[1;32m     17\u001b[0m len_removed \u001b[39m=\u001b[39m ind_length \u001b[39m-\u001b[39m num_not_removed\n\u001b[0;32m---> 18\u001b[0m p_value \u001b[39m=\u001b[39m get_p_value(individual)\n\u001b[1;32m     20\u001b[0m \u001b[39m# Return the fitness values as a tuple\u001b[39;00m\n\u001b[1;32m     21\u001b[0m \u001b[39mreturn\u001b[39;00m len_removed, p_value\n",
      "Cell \u001b[0;32mIn[36], line 10\u001b[0m, in \u001b[0;36mget_p_value\u001b[0;34m(solution)\u001b[0m\n\u001b[1;32m      8\u001b[0m sol \u001b[39m=\u001b[39m np\u001b[39m.\u001b[39marray(solution)\n\u001b[1;32m      9\u001b[0m up \u001b[39m=\u001b[39m sol\u001b[39m.\u001b[39mdot(expression_data\u001b[39m.\u001b[39mage_weighted)\n\u001b[0;32m---> 10\u001b[0m down \u001b[39m=\u001b[39m sol\u001b[39m.\u001b[39;49mdot(expression_data\u001b[39m.\u001b[39;49mexpressions_n)\n\u001b[1;32m     11\u001b[0m avgs \u001b[39m=\u001b[39m np\u001b[39m.\u001b[39mdivide(up,down)\n\u001b[1;32m     12\u001b[0m varr \u001b[39m=\u001b[39m np\u001b[39m.\u001b[39mvar(avgs)\n",
      "\u001b[0;31mKeyboardInterrupt\u001b[0m: "
     ]
    }
   ],
   "source": [
    "population, logbook = algorithms.eaMuPlusLambda(population,toolbox, mu=num_parents, lambda_ = population_size,cxpb=0.25, mutpb=0.5, ngen=num_generations,stats=stats, verbose=True)"
   ]
  },
  {
   "cell_type": "code",
   "execution_count": null,
   "metadata": {},
   "outputs": [],
   "source": [
    "pareto_front = tools.sortNondominated(population, k=population_size,first_front_only=True)\n",
    "par = np.array([list(x) for x in pareto_front[0]])\n",
    "np.savetxt(\"../results/best_solutions.csv\", par, delimiter=\",\")"
   ]
  }
 ],
 "metadata": {
  "kernelspec": {
   "display_name": "base",
   "language": "python",
   "name": "python3"
  },
  "language_info": {
   "codemirror_mode": {
    "name": "ipython",
    "version": 3
   },
   "file_extension": ".py",
   "mimetype": "text/x-python",
   "name": "python",
   "nbconvert_exporter": "python",
   "pygments_lexer": "ipython3",
   "version": "3.10.9"
  },
  "orig_nbformat": 4
 },
 "nbformat": 4,
 "nbformat_minor": 2
}
