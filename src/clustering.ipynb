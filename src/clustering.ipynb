{
 "cells": [
  {
   "cell_type": "code",
   "execution_count": 2,
   "metadata": {},
   "outputs": [],
   "source": [
    "import numpy as np\n",
    "from sklearn.cluster import DBSCAN\n",
    "import scipy\n",
    "import pandas as pd"
   ]
  },
  {
   "cell_type": "code",
   "execution_count": null,
   "metadata": {},
   "outputs": [],
   "source": [
    "class Expression_data:\n",
    "\n",
    "    def quantilerank(xs):\n",
    "        ranks = scipy.stats.rankdata(xs, method='average')\n",
    "        quantile_ranks = [scipy.stats.percentileofscore(ranks, rank, kind='weak') for rank in ranks]\n",
    "        return np.array(quantile_ranks)\n",
    "\n",
    "    def __init__(self,expression_data) -> None:\n",
    "        expression_data[\"Phylostratum\"] = Expression_data.quantilerank(expression_data[\"Phylostratum\"])\n",
    "        self.full = expression_data\n",
    "        exps = expression_data.iloc[:, 3:]\n",
    "        #exps = exps.apply(lambda row: Expression_data.quantilerank(row))\n",
    "        exps = np.log(exps).apply(lambda x: (x - x.mean()) / x.std(), axis=1)\n",
    "        self.age_weighted = exps.mul(expression_data[\"Phylostratum\"], axis=0).to_numpy()\n",
    "        self.expressions_n = exps.to_numpy()\n",
    "        self.expressions = exps\n",
    "\n",
    "\n",
    "arr = pd.read_csv(\"../data/phylo.csv\",\n",
    "                 delimiter=\",\")\n",
    "expression_data = Expression_data(arr)\n",
    "\n"
   ]
  },
  {
   "cell_type": "code",
   "execution_count": null,
   "metadata": {},
   "outputs": [],
   "source": [
    "\n",
    "\n",
    "\n",
    "# Create an instance of the DBSCAN algorithm\n",
    "dbscan = DBSCAN(eps=0.9, min_samples=2)\n",
    "\n",
    "# Fit the data to the algorithm\n",
    "dbscan.fit(data)\n",
    "\n",
    "# Get the cluster labels for each data point\n",
    "labels = dbscan.labels_\n",
    "\n",
    "# Find the indices of data points belonging to each cluster\n",
    "unique_labels = np.unique(labels)\n",
    "cluster_indices = [np.where(labels == label)[0] for label in unique_labels]\n",
    "\n",
    "# Print the indices of similar data points for each cluster\n",
    "for i, indices in enumerate(cluster_indices):\n",
    "    print(f\"Cluster {i}: {indices}\")"
   ]
  }
 ],
 "metadata": {
  "kernelspec": {
   "display_name": "base",
   "language": "python",
   "name": "python3"
  },
  "language_info": {
   "codemirror_mode": {
    "name": "ipython",
    "version": 3
   },
   "file_extension": ".py",
   "mimetype": "text/x-python",
   "name": "python",
   "nbconvert_exporter": "python",
   "pygments_lexer": "ipython3",
   "version": "3.10.9"
  },
  "orig_nbformat": 4
 },
 "nbformat": 4,
 "nbformat_minor": 2
}
